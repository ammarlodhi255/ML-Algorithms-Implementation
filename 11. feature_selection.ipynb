{
 "cells": [
  {
   "cell_type": "code",
   "execution_count": 2,
   "metadata": {},
   "outputs": [],
   "source": [
    "import pandas as pd\n",
    "import numpy as np\n",
    "from itertools import combinations\n",
    "from sklearn.model_selection import train_test_split"
   ]
  },
  {
   "cell_type": "code",
   "execution_count": null,
   "metadata": {},
   "outputs": [],
   "source": [
    "class SBS():\n",
    "    def __init__(self, classifier, k_features, current_score, test_size=.25, random_state=1):\n",
    "        self.current_score = current_score\n",
    "        self.classifier = classifier\n",
    "        self.k_features = k_features\n",
    "        self.test_size = test_size\n",
    "        self.random_state = random_state\n",
    "    \n",
    "    def fit(self, X, y):\n",
    "        X_train, X_test, y_train, y_test = \\ \n",
    "        train_test_split (\n",
    "            X, y, test_size=self.test_size, \n",
    "            stratify=y, random_state=self.random_state\n",
    "        )\n",
    "\n",
    "        dim = X_train.shape[1]\n",
    "        self.indices = tuple(range(dim))\n",
    "        self.subsets = [self.indices]\n",
    "        score = self.get_score(X_train, X_test, y_train, y_test, self.indices)\n",
    "\n",
    "        self.scores = [score]\n",
    "\n",
    "        while dim > self.k_features:\n",
    "            scores = []\n",
    "            subsets = []\n",
    "\n",
    "            for p in combinations(self.indices, r=dim-1):\n",
    "                score = self.get_score(\n",
    "                    X_train, X_test, y_train, y_test, p)\n",
    "                scores.append(score)\n",
    "                subsets.append(p)\n",
    "\n",
    "            best_acc_index = np.argmax(scores)\n",
    "            self.indices = subsets[best_acc_index]\n",
    "            \n",
    "\n",
    "    def get_score(X_train, X_test, y_train, y_test, col_indices):\n",
    "        self.classifier.fit(X_train.iloc[:, col_indices], y_train)\n",
    "        self.current_score = self.classifier.score(\n",
    "            X_test.iloc[:, col_indices], y_test)\n",
    "        return self.current_score"
   ]
  }
 ],
 "metadata": {
  "kernelspec": {
   "display_name": "Python 3.10.5 64-bit",
   "language": "python",
   "name": "python3"
  },
  "language_info": {
   "codemirror_mode": {
    "name": "ipython",
    "version": 3
   },
   "file_extension": ".py",
   "mimetype": "text/x-python",
   "name": "python",
   "nbconvert_exporter": "python",
   "pygments_lexer": "ipython3",
   "version": "3.10.5"
  },
  "orig_nbformat": 4,
  "vscode": {
   "interpreter": {
    "hash": "7c2737f5cd3eb6a237b7123ce75c641d6f975db18b0c0702ad2055474d78171c"
   }
  }
 },
 "nbformat": 4,
 "nbformat_minor": 2
}
