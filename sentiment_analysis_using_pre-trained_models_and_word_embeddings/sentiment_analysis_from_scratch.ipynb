{
  "cells": [
    {
      "cell_type": "code",
      "execution_count": 1,
      "metadata": {
        "colab": {
          "base_uri": "https://localhost:8080/"
        },
        "id": "P2ueV5Q6E9RH",
        "outputId": "3f4efe55-ecd2-4c86-cfa2-d112a0d22af9"
      },
      "outputs": [
        {
          "name": "stdout",
          "output_type": "stream",
          "text": [
            "Mounted at /content/drive\n"
          ]
        }
      ],
      "source": [
        "from google.colab import drive\n",
        "drive.mount('/content/drive')"
      ]
    },
    {
      "cell_type": "code",
      "execution_count": 2,
      "metadata": {
        "colab": {
          "base_uri": "https://localhost:8080/",
          "height": 363
        },
        "id": "1hLKjKLtE4__",
        "outputId": "a33cd780-9c52-41e2-878e-7665428985cf"
      },
      "outputs": [
        {
          "data": {
            "text/html": [
              "\n",
              "  <div id=\"df-40a288b3-7d3a-4ed1-8d8b-ec2191a8ec81\">\n",
              "    <div class=\"colab-df-container\">\n",
              "      <div>\n",
              "<style scoped>\n",
              "    .dataframe tbody tr th:only-of-type {\n",
              "        vertical-align: middle;\n",
              "    }\n",
              "\n",
              "    .dataframe tbody tr th {\n",
              "        vertical-align: top;\n",
              "    }\n",
              "\n",
              "    .dataframe thead th {\n",
              "        text-align: right;\n",
              "    }\n",
              "</style>\n",
              "<table border=\"1\" class=\"dataframe\">\n",
              "  <thead>\n",
              "    <tr style=\"text-align: right;\">\n",
              "      <th></th>\n",
              "      <th>0</th>\n",
              "      <th>1</th>\n",
              "      <th>2</th>\n",
              "      <th>3</th>\n",
              "      <th>4</th>\n",
              "      <th>5</th>\n",
              "    </tr>\n",
              "  </thead>\n",
              "  <tbody>\n",
              "    <tr>\n",
              "      <th>0</th>\n",
              "      <td>0</td>\n",
              "      <td>1467810369</td>\n",
              "      <td>Mon Apr 06 22:19:45 PDT 2009</td>\n",
              "      <td>NO_QUERY</td>\n",
              "      <td>_TheSpecialOne_</td>\n",
              "      <td>@switchfoot http://twitpic.com/2y1zl - Awww, t...</td>\n",
              "    </tr>\n",
              "    <tr>\n",
              "      <th>1</th>\n",
              "      <td>0</td>\n",
              "      <td>1467810672</td>\n",
              "      <td>Mon Apr 06 22:19:49 PDT 2009</td>\n",
              "      <td>NO_QUERY</td>\n",
              "      <td>scotthamilton</td>\n",
              "      <td>is upset that he can't update his Facebook by ...</td>\n",
              "    </tr>\n",
              "    <tr>\n",
              "      <th>2</th>\n",
              "      <td>0</td>\n",
              "      <td>1467810917</td>\n",
              "      <td>Mon Apr 06 22:19:53 PDT 2009</td>\n",
              "      <td>NO_QUERY</td>\n",
              "      <td>mattycus</td>\n",
              "      <td>@Kenichan I dived many times for the ball. Man...</td>\n",
              "    </tr>\n",
              "    <tr>\n",
              "      <th>3</th>\n",
              "      <td>0</td>\n",
              "      <td>1467811184</td>\n",
              "      <td>Mon Apr 06 22:19:57 PDT 2009</td>\n",
              "      <td>NO_QUERY</td>\n",
              "      <td>ElleCTF</td>\n",
              "      <td>my whole body feels itchy and like its on fire</td>\n",
              "    </tr>\n",
              "    <tr>\n",
              "      <th>4</th>\n",
              "      <td>0</td>\n",
              "      <td>1467811193</td>\n",
              "      <td>Mon Apr 06 22:19:57 PDT 2009</td>\n",
              "      <td>NO_QUERY</td>\n",
              "      <td>Karoli</td>\n",
              "      <td>@nationwideclass no, it's not behaving at all....</td>\n",
              "    </tr>\n",
              "    <tr>\n",
              "      <th>5</th>\n",
              "      <td>0</td>\n",
              "      <td>1467811372</td>\n",
              "      <td>Mon Apr 06 22:20:00 PDT 2009</td>\n",
              "      <td>NO_QUERY</td>\n",
              "      <td>joy_wolf</td>\n",
              "      <td>@Kwesidei not the whole crew</td>\n",
              "    </tr>\n",
              "    <tr>\n",
              "      <th>6</th>\n",
              "      <td>0</td>\n",
              "      <td>1467811592</td>\n",
              "      <td>Mon Apr 06 22:20:03 PDT 2009</td>\n",
              "      <td>NO_QUERY</td>\n",
              "      <td>mybirch</td>\n",
              "      <td>Need a hug</td>\n",
              "    </tr>\n",
              "    <tr>\n",
              "      <th>7</th>\n",
              "      <td>0</td>\n",
              "      <td>1467811594</td>\n",
              "      <td>Mon Apr 06 22:20:03 PDT 2009</td>\n",
              "      <td>NO_QUERY</td>\n",
              "      <td>coZZ</td>\n",
              "      <td>@LOLTrish hey  long time no see! Yes.. Rains a...</td>\n",
              "    </tr>\n",
              "    <tr>\n",
              "      <th>8</th>\n",
              "      <td>0</td>\n",
              "      <td>1467811795</td>\n",
              "      <td>Mon Apr 06 22:20:05 PDT 2009</td>\n",
              "      <td>NO_QUERY</td>\n",
              "      <td>2Hood4Hollywood</td>\n",
              "      <td>@Tatiana_K nope they didn't have it</td>\n",
              "    </tr>\n",
              "    <tr>\n",
              "      <th>9</th>\n",
              "      <td>0</td>\n",
              "      <td>1467812025</td>\n",
              "      <td>Mon Apr 06 22:20:09 PDT 2009</td>\n",
              "      <td>NO_QUERY</td>\n",
              "      <td>mimismo</td>\n",
              "      <td>@twittera que me muera ?</td>\n",
              "    </tr>\n",
              "  </tbody>\n",
              "</table>\n",
              "</div>\n",
              "      <button class=\"colab-df-convert\" onclick=\"convertToInteractive('df-40a288b3-7d3a-4ed1-8d8b-ec2191a8ec81')\"\n",
              "              title=\"Convert this dataframe to an interactive table.\"\n",
              "              style=\"display:none;\">\n",
              "        \n",
              "  <svg xmlns=\"http://www.w3.org/2000/svg\" height=\"24px\"viewBox=\"0 0 24 24\"\n",
              "       width=\"24px\">\n",
              "    <path d=\"M0 0h24v24H0V0z\" fill=\"none\"/>\n",
              "    <path d=\"M18.56 5.44l.94 2.06.94-2.06 2.06-.94-2.06-.94-.94-2.06-.94 2.06-2.06.94zm-11 1L8.5 8.5l.94-2.06 2.06-.94-2.06-.94L8.5 2.5l-.94 2.06-2.06.94zm10 10l.94 2.06.94-2.06 2.06-.94-2.06-.94-.94-2.06-.94 2.06-2.06.94z\"/><path d=\"M17.41 7.96l-1.37-1.37c-.4-.4-.92-.59-1.43-.59-.52 0-1.04.2-1.43.59L10.3 9.45l-7.72 7.72c-.78.78-.78 2.05 0 2.83L4 21.41c.39.39.9.59 1.41.59.51 0 1.02-.2 1.41-.59l7.78-7.78 2.81-2.81c.8-.78.8-2.07 0-2.86zM5.41 20L4 18.59l7.72-7.72 1.47 1.35L5.41 20z\"/>\n",
              "  </svg>\n",
              "      </button>\n",
              "      \n",
              "  <style>\n",
              "    .colab-df-container {\n",
              "      display:flex;\n",
              "      flex-wrap:wrap;\n",
              "      gap: 12px;\n",
              "    }\n",
              "\n",
              "    .colab-df-convert {\n",
              "      background-color: #E8F0FE;\n",
              "      border: none;\n",
              "      border-radius: 50%;\n",
              "      cursor: pointer;\n",
              "      display: none;\n",
              "      fill: #1967D2;\n",
              "      height: 32px;\n",
              "      padding: 0 0 0 0;\n",
              "      width: 32px;\n",
              "    }\n",
              "\n",
              "    .colab-df-convert:hover {\n",
              "      background-color: #E2EBFA;\n",
              "      box-shadow: 0px 1px 2px rgba(60, 64, 67, 0.3), 0px 1px 3px 1px rgba(60, 64, 67, 0.15);\n",
              "      fill: #174EA6;\n",
              "    }\n",
              "\n",
              "    [theme=dark] .colab-df-convert {\n",
              "      background-color: #3B4455;\n",
              "      fill: #D2E3FC;\n",
              "    }\n",
              "\n",
              "    [theme=dark] .colab-df-convert:hover {\n",
              "      background-color: #434B5C;\n",
              "      box-shadow: 0px 1px 3px 1px rgba(0, 0, 0, 0.15);\n",
              "      filter: drop-shadow(0px 1px 2px rgba(0, 0, 0, 0.3));\n",
              "      fill: #FFFFFF;\n",
              "    }\n",
              "  </style>\n",
              "\n",
              "      <script>\n",
              "        const buttonEl =\n",
              "          document.querySelector('#df-40a288b3-7d3a-4ed1-8d8b-ec2191a8ec81 button.colab-df-convert');\n",
              "        buttonEl.style.display =\n",
              "          google.colab.kernel.accessAllowed ? 'block' : 'none';\n",
              "\n",
              "        async function convertToInteractive(key) {\n",
              "          const element = document.querySelector('#df-40a288b3-7d3a-4ed1-8d8b-ec2191a8ec81');\n",
              "          const dataTable =\n",
              "            await google.colab.kernel.invokeFunction('convertToInteractive',\n",
              "                                                     [key], {});\n",
              "          if (!dataTable) return;\n",
              "\n",
              "          const docLinkHtml = 'Like what you see? Visit the ' +\n",
              "            '<a target=\"_blank\" href=https://colab.research.google.com/notebooks/data_table.ipynb>data table notebook</a>'\n",
              "            + ' to learn more about interactive tables.';\n",
              "          element.innerHTML = '';\n",
              "          dataTable['output_type'] = 'display_data';\n",
              "          await google.colab.output.renderOutput(dataTable, element);\n",
              "          const docLink = document.createElement('div');\n",
              "          docLink.innerHTML = docLinkHtml;\n",
              "          element.appendChild(docLink);\n",
              "        }\n",
              "      </script>\n",
              "    </div>\n",
              "  </div>\n",
              "  "
            ],
            "text/plain": [
              "   0           1                             2         3                4  \\\n",
              "0  0  1467810369  Mon Apr 06 22:19:45 PDT 2009  NO_QUERY  _TheSpecialOne_   \n",
              "1  0  1467810672  Mon Apr 06 22:19:49 PDT 2009  NO_QUERY    scotthamilton   \n",
              "2  0  1467810917  Mon Apr 06 22:19:53 PDT 2009  NO_QUERY         mattycus   \n",
              "3  0  1467811184  Mon Apr 06 22:19:57 PDT 2009  NO_QUERY          ElleCTF   \n",
              "4  0  1467811193  Mon Apr 06 22:19:57 PDT 2009  NO_QUERY           Karoli   \n",
              "5  0  1467811372  Mon Apr 06 22:20:00 PDT 2009  NO_QUERY         joy_wolf   \n",
              "6  0  1467811592  Mon Apr 06 22:20:03 PDT 2009  NO_QUERY          mybirch   \n",
              "7  0  1467811594  Mon Apr 06 22:20:03 PDT 2009  NO_QUERY             coZZ   \n",
              "8  0  1467811795  Mon Apr 06 22:20:05 PDT 2009  NO_QUERY  2Hood4Hollywood   \n",
              "9  0  1467812025  Mon Apr 06 22:20:09 PDT 2009  NO_QUERY          mimismo   \n",
              "\n",
              "                                                   5  \n",
              "0  @switchfoot http://twitpic.com/2y1zl - Awww, t...  \n",
              "1  is upset that he can't update his Facebook by ...  \n",
              "2  @Kenichan I dived many times for the ball. Man...  \n",
              "3    my whole body feels itchy and like its on fire   \n",
              "4  @nationwideclass no, it's not behaving at all....  \n",
              "5                      @Kwesidei not the whole crew   \n",
              "6                                        Need a hug   \n",
              "7  @LOLTrish hey  long time no see! Yes.. Rains a...  \n",
              "8               @Tatiana_K nope they didn't have it   \n",
              "9                          @twittera que me muera ?   "
            ]
          },
          "execution_count": 2,
          "metadata": {},
          "output_type": "execute_result"
        }
      ],
      "source": [
        "import pandas as pd\n",
        "import numpy as np\n",
        "\n",
        "df = pd.read_csv (\n",
        "    './content/drive/MyDrive/Code /Sentiment Analysis/noemoticon.csv', \n",
        "    header=None,\n",
        "    encoding='latin-1'\n",
        ")\n",
        "df.head(10)"
      ]
    },
    {
      "cell_type": "code",
      "execution_count": 3,
      "metadata": {
        "colab": {
          "base_uri": "https://localhost:8080/",
          "height": 206
        },
        "id": "N3Yw_vIyE5AF",
        "outputId": "dfa96f95-3257-47d1-d035-ccf6ebd1e995"
      },
      "outputs": [
        {
          "data": {
            "text/html": [
              "\n",
              "  <div id=\"df-8d093482-3057-410d-9db7-aec33b175203\">\n",
              "    <div class=\"colab-df-container\">\n",
              "      <div>\n",
              "<style scoped>\n",
              "    .dataframe tbody tr th:only-of-type {\n",
              "        vertical-align: middle;\n",
              "    }\n",
              "\n",
              "    .dataframe tbody tr th {\n",
              "        vertical-align: top;\n",
              "    }\n",
              "\n",
              "    .dataframe thead th {\n",
              "        text-align: right;\n",
              "    }\n",
              "</style>\n",
              "<table border=\"1\" class=\"dataframe\">\n",
              "  <thead>\n",
              "    <tr style=\"text-align: right;\">\n",
              "      <th></th>\n",
              "      <th>Sentiment</th>\n",
              "      <th>Sentence</th>\n",
              "    </tr>\n",
              "  </thead>\n",
              "  <tbody>\n",
              "    <tr>\n",
              "      <th>0</th>\n",
              "      <td>0</td>\n",
              "      <td>@switchfoot http://twitpic.com/2y1zl - Awww, t...</td>\n",
              "    </tr>\n",
              "    <tr>\n",
              "      <th>1</th>\n",
              "      <td>0</td>\n",
              "      <td>is upset that he can't update his Facebook by ...</td>\n",
              "    </tr>\n",
              "    <tr>\n",
              "      <th>2</th>\n",
              "      <td>0</td>\n",
              "      <td>@Kenichan I dived many times for the ball. Man...</td>\n",
              "    </tr>\n",
              "    <tr>\n",
              "      <th>3</th>\n",
              "      <td>0</td>\n",
              "      <td>my whole body feels itchy and like its on fire</td>\n",
              "    </tr>\n",
              "    <tr>\n",
              "      <th>4</th>\n",
              "      <td>0</td>\n",
              "      <td>@nationwideclass no, it's not behaving at all....</td>\n",
              "    </tr>\n",
              "  </tbody>\n",
              "</table>\n",
              "</div>\n",
              "      <button class=\"colab-df-convert\" onclick=\"convertToInteractive('df-8d093482-3057-410d-9db7-aec33b175203')\"\n",
              "              title=\"Convert this dataframe to an interactive table.\"\n",
              "              style=\"display:none;\">\n",
              "        \n",
              "  <svg xmlns=\"http://www.w3.org/2000/svg\" height=\"24px\"viewBox=\"0 0 24 24\"\n",
              "       width=\"24px\">\n",
              "    <path d=\"M0 0h24v24H0V0z\" fill=\"none\"/>\n",
              "    <path d=\"M18.56 5.44l.94 2.06.94-2.06 2.06-.94-2.06-.94-.94-2.06-.94 2.06-2.06.94zm-11 1L8.5 8.5l.94-2.06 2.06-.94-2.06-.94L8.5 2.5l-.94 2.06-2.06.94zm10 10l.94 2.06.94-2.06 2.06-.94-2.06-.94-.94-2.06-.94 2.06-2.06.94z\"/><path d=\"M17.41 7.96l-1.37-1.37c-.4-.4-.92-.59-1.43-.59-.52 0-1.04.2-1.43.59L10.3 9.45l-7.72 7.72c-.78.78-.78 2.05 0 2.83L4 21.41c.39.39.9.59 1.41.59.51 0 1.02-.2 1.41-.59l7.78-7.78 2.81-2.81c.8-.78.8-2.07 0-2.86zM5.41 20L4 18.59l7.72-7.72 1.47 1.35L5.41 20z\"/>\n",
              "  </svg>\n",
              "      </button>\n",
              "      \n",
              "  <style>\n",
              "    .colab-df-container {\n",
              "      display:flex;\n",
              "      flex-wrap:wrap;\n",
              "      gap: 12px;\n",
              "    }\n",
              "\n",
              "    .colab-df-convert {\n",
              "      background-color: #E8F0FE;\n",
              "      border: none;\n",
              "      border-radius: 50%;\n",
              "      cursor: pointer;\n",
              "      display: none;\n",
              "      fill: #1967D2;\n",
              "      height: 32px;\n",
              "      padding: 0 0 0 0;\n",
              "      width: 32px;\n",
              "    }\n",
              "\n",
              "    .colab-df-convert:hover {\n",
              "      background-color: #E2EBFA;\n",
              "      box-shadow: 0px 1px 2px rgba(60, 64, 67, 0.3), 0px 1px 3px 1px rgba(60, 64, 67, 0.15);\n",
              "      fill: #174EA6;\n",
              "    }\n",
              "\n",
              "    [theme=dark] .colab-df-convert {\n",
              "      background-color: #3B4455;\n",
              "      fill: #D2E3FC;\n",
              "    }\n",
              "\n",
              "    [theme=dark] .colab-df-convert:hover {\n",
              "      background-color: #434B5C;\n",
              "      box-shadow: 0px 1px 3px 1px rgba(0, 0, 0, 0.15);\n",
              "      filter: drop-shadow(0px 1px 2px rgba(0, 0, 0, 0.3));\n",
              "      fill: #FFFFFF;\n",
              "    }\n",
              "  </style>\n",
              "\n",
              "      <script>\n",
              "        const buttonEl =\n",
              "          document.querySelector('#df-8d093482-3057-410d-9db7-aec33b175203 button.colab-df-convert');\n",
              "        buttonEl.style.display =\n",
              "          google.colab.kernel.accessAllowed ? 'block' : 'none';\n",
              "\n",
              "        async function convertToInteractive(key) {\n",
              "          const element = document.querySelector('#df-8d093482-3057-410d-9db7-aec33b175203');\n",
              "          const dataTable =\n",
              "            await google.colab.kernel.invokeFunction('convertToInteractive',\n",
              "                                                     [key], {});\n",
              "          if (!dataTable) return;\n",
              "\n",
              "          const docLinkHtml = 'Like what you see? Visit the ' +\n",
              "            '<a target=\"_blank\" href=https://colab.research.google.com/notebooks/data_table.ipynb>data table notebook</a>'\n",
              "            + ' to learn more about interactive tables.';\n",
              "          element.innerHTML = '';\n",
              "          dataTable['output_type'] = 'display_data';\n",
              "          await google.colab.output.renderOutput(dataTable, element);\n",
              "          const docLink = document.createElement('div');\n",
              "          docLink.innerHTML = docLinkHtml;\n",
              "          element.appendChild(docLink);\n",
              "        }\n",
              "      </script>\n",
              "    </div>\n",
              "  </div>\n",
              "  "
            ],
            "text/plain": [
              "   Sentiment                                           Sentence\n",
              "0          0  @switchfoot http://twitpic.com/2y1zl - Awww, t...\n",
              "1          0  is upset that he can't update his Facebook by ...\n",
              "2          0  @Kenichan I dived many times for the ball. Man...\n",
              "3          0    my whole body feels itchy and like its on fire \n",
              "4          0  @nationwideclass no, it's not behaving at all...."
            ]
          },
          "execution_count": 3,
          "metadata": {},
          "output_type": "execute_result"
        }
      ],
      "source": [
        "df = df.drop([1, 2, 3, 4], axis=1)\n",
        "df.columns = ['Sentiment', 'Sentence']\n",
        "df.head(5)"
      ]
    },
    {
      "cell_type": "code",
      "execution_count": 4,
      "metadata": {
        "colab": {
          "base_uri": "https://localhost:8080/"
        },
        "id": "xD8hvEhcE5AH",
        "outputId": "1b15366f-f601-4e54-e867-403da521c932"
      },
      "outputs": [
        {
          "data": {
            "text/plain": [
              "(1600000, 2)"
            ]
          },
          "execution_count": 4,
          "metadata": {},
          "output_type": "execute_result"
        }
      ],
      "source": [
        "df.shape"
      ]
    },
    {
      "cell_type": "code",
      "execution_count": 5,
      "metadata": {
        "colab": {
          "base_uri": "https://localhost:8080/"
        },
        "id": "urTMxVDxE5AH",
        "outputId": "a22a0e79-7ce1-463f-8cad-f4dc61e87c80"
      },
      "outputs": [
        {
          "name": "stdout",
          "output_type": "stream",
          "text": [
            "0    800000\n",
            "4    800000\n",
            "Name: Sentiment, dtype: int64\n",
            "\n",
            "Negative: 800000\n",
            "Positive: 800000\n"
          ]
        }
      ],
      "source": [
        "# Class Distribution:\n",
        "\n",
        "counts = df['Sentiment'].value_counts()\n",
        "print(counts)\n",
        "print(f'\\nNegative: {counts.iloc[0]}\\nPositive: {counts.iloc[1]}')"
      ]
    },
    {
      "cell_type": "code",
      "execution_count": 6,
      "metadata": {
        "colab": {
          "base_uri": "https://localhost:8080/"
        },
        "id": "gsO8PfqAE5AI",
        "outputId": "fea6bf9b-69c4-448b-dc14-3a0ca97fbead"
      },
      "outputs": [
        {
          "data": {
            "text/plain": [
              "1599995    1\n",
              "1599996    1\n",
              "1599997    1\n",
              "1599998    1\n",
              "1599999    1\n",
              "Name: Sentiment, dtype: int64"
            ]
          },
          "execution_count": 6,
          "metadata": {},
          "output_type": "execute_result"
        }
      ],
      "source": [
        "df['Sentiment'] = df['Sentiment'].map({np.int64(0): 0, np.int64(4): 1})\n",
        "df['Sentiment'].tail(5)"
      ]
    },
    {
      "cell_type": "code",
      "execution_count": 7,
      "metadata": {
        "colab": {
          "base_uri": "https://localhost:8080/"
        },
        "id": "4ZjjWYwgE5AJ",
        "outputId": "d0358cca-bc78-493d-a288-bb042a5878ed"
      },
      "outputs": [
        {
          "name": "stdout",
          "output_type": "stream",
          "text": [
            "Sentence: @zapakitul and we'll show you a good night in Gothenburg too \n",
            "Sentiment: Neutral\n"
          ]
        }
      ],
      "source": [
        "import random\n",
        "\n",
        "'''\n",
        "    Printing a random sentence from the dataset along with its sentiment. \n",
        "    (Run the cell again, to generate new sentence each time)\n",
        "'''\n",
        "\n",
        "sentiments = {0: 'Negative', 1: 'Positive'}\n",
        "random_sentence_idx = random.randint(0, df.shape[0])\n",
        "random_sentence = df.iloc[random_sentence_idx, 1]\n",
        "sentence_sentiment = sentiments[df.iloc[random_sentence_idx, 0]]\n",
        "\n",
        "print(f'Sentence: {random_sentence}')\n",
        "print(f'Sentiment: {sentence_sentiment}')"
      ]
    },
    {
      "cell_type": "code",
      "execution_count": 8,
      "metadata": {
        "colab": {
          "base_uri": "https://localhost:8080/"
        },
        "id": "UHjkVHbnE5AK",
        "outputId": "2847addb-1e36-4971-9b00-681637490cff"
      },
      "outputs": [
        {
          "name": "stderr",
          "output_type": "stream",
          "text": [
            "[nltk_data] Downloading package stopwords to /root/nltk_data...\n",
            "[nltk_data]   Unzipping corpora/stopwords.zip.\n"
          ]
        },
        {
          "data": {
            "text/plain": [
              "True"
            ]
          },
          "execution_count": 8,
          "metadata": {},
          "output_type": "execute_result"
        }
      ],
      "source": [
        "import nltk\n",
        "nltk.download('stopwords')"
      ]
    },
    {
      "cell_type": "code",
      "execution_count": 9,
      "metadata": {
        "colab": {
          "base_uri": "https://localhost:8080/"
        },
        "id": "AzRCmrzfFizf",
        "outputId": "91053d93-e017-4008-ac04-e545506c1a0b"
      },
      "outputs": [
        {
          "name": "stdout",
          "output_type": "stream",
          "text": [
            "ALL STOPWORDS:\n",
            "\n",
            "['i', 'me', 'my', 'myself', 'we', 'our', 'ours', 'ourselves', 'you', \"you're\", \"you've\", \"you'll\", \"you'd\", 'your', 'yours', 'yourself', 'yourselves', 'he', 'him', 'his', 'himself', 'she', \"she's\", 'her', 'hers', 'herself', 'it', \"it's\", 'its', 'itself', 'they', 'them', 'their', 'theirs', 'themselves', 'what', 'which', 'who', 'whom', 'this', 'that', \"that'll\", 'these', 'those', 'am', 'is', 'are', 'was', 'were', 'be', 'been', 'being', 'have', 'has', 'had', 'having', 'do', 'does', 'did', 'doing', 'a', 'an', 'the', 'and', 'but', 'if', 'or', 'because', 'as', 'until', 'while', 'of', 'at', 'by', 'for', 'with', 'about', 'against', 'between', 'into', 'through', 'during', 'before', 'after', 'above', 'below', 'to', 'from', 'up', 'down', 'in', 'out', 'on', 'off', 'over', 'under', 'again', 'further', 'then', 'once', 'here', 'there', 'when', 'where', 'why', 'how', 'all', 'any', 'both', 'each', 'few', 'more', 'most', 'other', 'some', 'such', 'no', 'nor', 'not', 'only', 'own', 'same', 'so', 'than', 'too', 'very', 's', 't', 'can', 'will', 'just', 'don', \"don't\", 'should', \"should've\", 'now', 'd', 'll', 'm', 'o', 're', 've', 'y', 'ain', 'aren', \"aren't\", 'couldn', \"couldn't\", 'didn', \"didn't\", 'doesn', \"doesn't\", 'hadn', \"hadn't\", 'hasn', \"hasn't\", 'haven', \"haven't\", 'isn', \"isn't\", 'ma', 'mightn', \"mightn't\", 'mustn', \"mustn't\", 'needn', \"needn't\", 'shan', \"shan't\", 'shouldn', \"shouldn't\", 'wasn', \"wasn't\", 'weren', \"weren't\", 'won', \"won't\", 'wouldn', \"wouldn't\"]\n"
          ]
        }
      ],
      "source": [
        "from nltk.corpus import stopwords\n",
        "stopwords = stopwords.words('english')\n",
        "print('ALL STOPWORDS:\\n')\n",
        "print(stopwords)"
      ]
    },
    {
      "cell_type": "code",
      "execution_count": 10,
      "metadata": {
        "colab": {
          "base_uri": "https://localhost:8080/"
        },
        "id": "52wXCk7-E5AL",
        "outputId": "234bfa8a-2939-4692-8947-fb6c78f18726"
      },
      "outputs": [
        {
          "name": "stdout",
          "output_type": "stream",
          "text": [
            "thought this indeed remarkable contribution\n",
            "zapakitul well show good night gothenburg \n"
          ]
        }
      ],
      "source": [
        "import string\n",
        "\n",
        "def pre_process_text(text):\n",
        "    # Converting the text to lowercase first\n",
        "    text = text.lower()\n",
        "    # Removing stopwords\n",
        "    words = text.split(' ')\n",
        "    words = [word for word in words if word not in stopwords]\n",
        "    text = \" \".join(words)\n",
        "    # Removing punctuation\n",
        "    return \"\".join(char for char in text if char not in string.punctuation)\n",
        "\n",
        "# Testing our preprocessing function \n",
        "print(pre_process_text(\"I hadn't thought about this this. This is indeed a remarkable contribution.....\"))\n",
        "print(pre_process_text(random_sentence))"
      ]
    },
    {
      "cell_type": "code",
      "execution_count": 11,
      "metadata": {
        "id": "pKBXs7_VE5AN"
      },
      "outputs": [],
      "source": [
        "# Let us apply our preprocessing function to all of the sentences in our dataset\n",
        "df['Sentence'] = df['Sentence'].apply(pre_process_text)"
      ]
    },
    {
      "cell_type": "code",
      "execution_count": 12,
      "metadata": {
        "colab": {
          "base_uri": "https://localhost:8080/"
        },
        "id": "Q6oL1N2FE5AO",
        "outputId": "e7fff4db-8b01-4b01-e455-d877b4d64529"
      },
      "outputs": [
        {
          "data": {
            "text/plain": [
              "0    switchfoot httptwitpiccom2y1zl  awww thats bum...\n",
              "1    upset cant update facebook texting it might cr...\n",
              "2    kenichan dived many times ball managed save 50...\n",
              "3                    whole body feels itchy like fire \n",
              "4    nationwideclass no behaving all im mad here ca...\n",
              "Name: Sentence, dtype: object"
            ]
          },
          "execution_count": 12,
          "metadata": {},
          "output_type": "execute_result"
        }
      ],
      "source": [
        "df['Sentence'].head(5)"
      ]
    },
    {
      "cell_type": "code",
      "execution_count": 13,
      "metadata": {
        "id": "gVdVApHqE5AP"
      },
      "outputs": [],
      "source": [
        "# Seperate sentiments from sentences\n",
        "X = df['Sentence']\n",
        "y = df['Sentiment'].values"
      ]
    },
    {
      "cell_type": "code",
      "execution_count": 14,
      "metadata": {
        "id": "Sal2fJOdE5AQ"
      },
      "outputs": [],
      "source": [
        "# Splitting the dataset into training and testing 70% and 20% respectively.\n",
        "from sklearn.model_selection import train_test_split\n",
        "rand_seed = 42 # To ensure the reproducibility\n",
        "X_train, X_test, y_train, y_test = train_test_split(X, y, test_size=.3, stratify=y, random_state=rand_seed)"
      ]
    },
    {
      "cell_type": "code",
      "execution_count": 15,
      "metadata": {
        "colab": {
          "base_uri": "https://localhost:8080/"
        },
        "id": "878TNnaEE5AR",
        "outputId": "e3ca75b5-dd42-445d-83ef-0f95970dc0b3"
      },
      "outputs": [
        {
          "name": "stdout",
          "output_type": "stream",
          "text": [
            "Training Samples: 1120000\n",
            "Test Samples: 480000\n"
          ]
        }
      ],
      "source": [
        "print(f'Training Samples: {len(X_train)}')\n",
        "print(f'Test Samples: {len(X_test)}')"
      ]
    },
    {
      "cell_type": "code",
      "execution_count": 16,
      "metadata": {
        "id": "mquklNgiMuoS"
      },
      "outputs": [],
      "source": [
        "from keras.models import Sequential\n",
        "from keras.layers import Embedding, SimpleRNN, Dense\n",
        "from tensorflow.keras import layers\n",
        "\n",
        "max_length = 140\n",
        "max_features = 10000"
      ]
    },
    {
      "cell_type": "code",
      "execution_count": null,
      "metadata": {
        "id": "kR959Gr1E5AR"
      },
      "outputs": [],
      "source": [
        "text_vectorization = layers.TextVectorization(\n",
        "    max_tokens=max_features,\n",
        "    output_mode=\"int\",\n",
        "    output_sequence_length=max_length,\n",
        ")\n",
        "text_vectorization.adapt(X)\n",
        "\n",
        "X_train = text_vectorization(X_train)\n",
        "X_test = text_vectorization(X_test)"
      ]
    },
    {
      "cell_type": "code",
      "execution_count": null,
      "metadata": {
        "id": "fOjZSsLkNGIo"
      },
      "outputs": [],
      "source": [
        "import pickle\n",
        "\n",
        "vocabulary = text_vectorization.get_vocabulary()\n",
        "\n",
        "with open('/content/drive/MyDrive/Code /Sentiment Analysis/vocab.pickle', 'wb') as file:\n",
        "    pickle.dump(vocabulary, file)\n",
        "\n",
        "with open('/content/drive/MyDrive/Code /Sentiment Analysis/X_train.pickle', 'wb') as file:\n",
        "    pickle.dump(X_train, file)\n",
        "\n",
        "with open('/content/drive/MyDrive/Code /Sentiment Analysis/X_test.pickle', 'wb') as file:\n",
        "    pickle.dump(X_test, file)"
      ]
    },
    {
      "cell_type": "code",
      "execution_count": 17,
      "metadata": {
        "id": "xCE3LCbRXCJL"
      },
      "outputs": [],
      "source": [
        "import pickle\n",
        "with open('/content/drive/MyDrive/Code /Sentiment Analysis/X_train.pickle', 'rb') as file:\n",
        "  X_train = pickle.load(file)\n",
        "\n",
        "with open('/content/drive/MyDrive/Code /Sentiment Analysis/X_test.pickle', 'rb') as file:\n",
        "  X_test = pickle.load(file)\n",
        "\n",
        "with open('/content/drive/MyDrive/Code /Sentiment Analysis/vocab.pickle', 'rb') as file:\n",
        "  vocabulary = pickle.load(file)"
      ]
    },
    {
      "cell_type": "markdown",
      "metadata": {
        "id": "gq_y87y8qLgn"
      },
      "source": [
        "# **Experiment no. 1 Using RNN with Embedding Layer**"
      ]
    },
    {
      "cell_type": "code",
      "execution_count": null,
      "metadata": {
        "colab": {
          "base_uri": "https://localhost:8080/"
        },
        "id": "rZJjU3uElzsZ",
        "outputId": "f6209bdd-c067-4c40-e9fd-4245c491a133"
      },
      "outputs": [
        {
          "name": "stdout",
          "output_type": "stream",
          "text": [
            "Model: \"model_3\"\n",
            "_________________________________________________________________\n",
            " Layer (type)                Output Shape              Param #   \n",
            "=================================================================\n",
            " input_4 (InputLayer)        [(None, None)]            0         \n",
            "                                                                 \n",
            " embedding_3 (Embedding)     (None, None, 140)         1400000   \n",
            "                                                                 \n",
            " simple_rnn_3 (SimpleRNN)    (None, 32)                5536      \n",
            "                                                                 \n",
            " dense_9 (Dense)             (None, 64)                2112      \n",
            "                                                                 \n",
            " dense_10 (Dense)            (None, 32)                2080      \n",
            "                                                                 \n",
            " dense_11 (Dense)            (None, 1)                 33        \n",
            "                                                                 \n",
            "=================================================================\n",
            "Total params: 1,409,761\n",
            "Trainable params: 1,409,761\n",
            "Non-trainable params: 0\n",
            "_________________________________________________________________\n",
            "Epoch 1/5\n",
            "2987/2987 [==============================] - 299s 100ms/step - loss: 0.6546 - accuracy: 0.6046 - val_loss: 0.5966 - val_accuracy: 0.6972\n",
            "Epoch 2/5\n",
            "2987/2987 [==============================] - 302s 101ms/step - loss: 0.6021 - accuracy: 0.6870 - val_loss: 0.8570 - val_accuracy: 0.4348\n",
            "Epoch 3/5\n",
            "2987/2987 [==============================] - 295s 99ms/step - loss: 0.6050 - accuracy: 0.6819 - val_loss: 0.5779 - val_accuracy: 0.7149\n",
            "Epoch 4/5\n",
            "2987/2987 [==============================] - 290s 97ms/step - loss: 0.5848 - accuracy: 0.7065 - val_loss: 0.5702 - val_accuracy: 0.7182\n",
            "Epoch 5/5\n",
            "2987/2987 [==============================] - 292s 98ms/step - loss: 0.5917 - accuracy: 0.6995 - val_loss: 0.5849 - val_accuracy: 0.7113\n"
          ]
        }
      ],
      "source": [
        "import keras\n",
        "inputs = keras.Input(shape=(None,), dtype=\"int64\")\n",
        "embedded = layers.Embedding(max_features, max_length)(inputs)\n",
        "x = layers.SimpleRNN(32)(embedded)\n",
        "outputs = layers.Dense(64, activation='relu')(x)\n",
        "outputs = layers.Dense(32, activation='relu')(outputs)\n",
        "outputs = layers.Dense(1, activation=\"sigmoid\")(outputs)\n",
        "model = keras.Model(inputs, outputs)\n",
        "model.compile(optimizer=\"rmsprop\",\n",
        "              loss=\"binary_crossentropy\",\n",
        "              metrics=[\"accuracy\"])\n",
        "model.summary()\n",
        "\n",
        "# I had to train it for 5 epochs due to time and device constraints.\n",
        "# Each epoch was taking considerably huge amount of time.\n",
        "\n",
        "history = model.fit(X_train, y_train,\n",
        "                    epochs=5,\n",
        "                    batch_size=300,\n",
        "                    validation_split=0.2)"
      ]
    },
    {
      "cell_type": "code",
      "execution_count": null,
      "metadata": {
        "colab": {
          "base_uri": "https://localhost:8080/",
          "height": 295
        },
        "id": "hNCc4DtmnfBS",
        "outputId": "b6cf441c-0784-448e-b9da-094b7de52613"
      },
      "outputs": [
        {
          "data": {
            "image/png": "[encoded data removed]",
            "text/plain": [
              "<Figure size 432x288 with 1 Axes>"
            ]
          },
          "metadata": {},
          "output_type": "display_data"
        }
      ],
      "source": [
        "# When the model was trained on 10 epochs, more often than not, the accuracy started to plummet\n",
        "import matplotlib.pyplot as plt\n",
        "plt.plot(history.history['accuracy'])\n",
        "plt.plot(history.history['val_accuracy'])\n",
        "plt.title('model accuracy')\n",
        "plt.ylabel('accuracy')\n",
        "plt.xlabel('epoch')\n",
        "plt.legend(['train', 'test'], loc='upper left')\n",
        "plt.show()"
      ]
    },
    {
      "cell_type": "code",
      "execution_count": null,
      "metadata": {
        "colab": {
          "base_uri": "https://localhost:8080/"
        },
        "id": "nLHlEjU426yg",
        "outputId": "68d4b9d5-1360-4801-9554-174e6fafb5a9"
      },
      "outputs": [
        {
          "name": "stdout",
          "output_type": "stream",
          "text": [
            "15000/15000 [==============================] - 165s 11ms/step - loss: 0.5851 - accuracy: 0.7109\n",
            "15000/15000 [==============================] - 148s 10ms/step\n",
            "Test Accuracy: 0.7109354138374329, Precision: 0.674040917638727, Recall: 0.8169291666666667, F1-Score: 0.7386381402848494\n"
          ]
        }
      ],
      "source": [
        "from sklearn.metrics import precision_score, recall_score, f1_score\n",
        "results = []\n",
        "_, acc = model.evaluate(X_test, y_test)\n",
        "y_pred = model.predict(X_test)\n",
        "y_pred = [round(pred[0]) for pred in y_pred]\n",
        "precision = precision_score(y_test, y_pred)\n",
        "recall = recall_score(y_test, y_pred)\n",
        "f1_score = f1_score(y_test, y_pred)\n",
        "\n",
        "print(f'Test Accuracy: {acc}, Precision: {precision}, Recall: {recall}, F1-Score: {f1_score}')\n",
        "results.append([acc, precision, recall, f1_score])"
      ]
    },
    {
      "cell_type": "code",
      "execution_count": null,
      "metadata": {
        "id": "_EMKbskr9xfr"
      },
      "outputs": [],
      "source": [
        "with open('/content/drive/MyDrive/Code /Sentiment Analysis/results.pickle', 'wb') as file:\n",
        "    pickle.dump(results, file)"
      ]
    },
    {
      "cell_type": "markdown",
      "metadata": {
        "id": "3G4GdGUNpWrd"
      },
      "source": [
        "# **Experiment no. 2 adding an additional layer of 128 neurons**"
      ]
    },
    {
      "cell_type": "code",
      "execution_count": null,
      "metadata": {
        "colab": {
          "base_uri": "https://localhost:8080/"
        },
        "id": "ddQGVQ-6E5AT",
        "outputId": "7168d591-75a2-43c3-952d-39675709782a"
      },
      "outputs": [
        {
          "name": "stdout",
          "output_type": "stream",
          "text": [
            "Model: \"model_4\"\n",
            "_________________________________________________________________\n",
            " Layer (type)                Output Shape              Param #   \n",
            "=================================================================\n",
            " input_5 (InputLayer)        [(None, None)]            0         \n",
            "                                                                 \n",
            " embedding_4 (Embedding)     (None, None, 140)         1400000   \n",
            "                                                                 \n",
            " simple_rnn_4 (SimpleRNN)    (None, 32)                5536      \n",
            "                                                                 \n",
            " dense_12 (Dense)            (None, 128)               4224      \n",
            "                                                                 \n",
            " dense_13 (Dense)            (None, 64)                8256      \n",
            "                                                                 \n",
            " dense_14 (Dense)            (None, 32)                2080      \n",
            "                                                                 \n",
            " dense_15 (Dense)            (None, 1)                 33        \n",
            "                                                                 \n",
            "=================================================================\n",
            "Total params: 1,420,129\n",
            "Trainable params: 1,420,129\n",
            "Non-trainable params: 0\n",
            "_________________________________________________________________\n",
            "Epoch 1/5\n",
            "3500/3500 [==============================] - 295s 84ms/step - loss: 0.6539 - accuracy: 0.6029 - val_loss: 0.6024 - val_accuracy: 0.6942\n",
            "Epoch 2/5\n",
            "3500/3500 [==============================] - 290s 83ms/step - loss: 0.6288 - accuracy: 0.6499 - val_loss: 0.5912 - val_accuracy: 0.6956\n",
            "Epoch 3/5\n",
            "3500/3500 [==============================] - 286s 82ms/step - loss: 0.5947 - accuracy: 0.6964 - val_loss: 0.5559 - val_accuracy: 0.7334\n",
            "Epoch 4/5\n",
            "3500/3500 [==============================] - 289s 82ms/step - loss: 0.5756 - accuracy: 0.7180 - val_loss: 0.5559 - val_accuracy: 0.7475\n",
            "Epoch 5/5\n",
            "3500/3500 [==============================] - 287s 82ms/step - loss: 0.5917 - accuracy: 0.6983 - val_loss: 0.6658 - val_accuracy: 0.5980\n"
          ]
        }
      ],
      "source": [
        "inputs = keras.Input(shape=(None,), dtype=\"int64\")\n",
        "embedded = layers.Embedding(max_features, max_length)(inputs)\n",
        "x = layers.SimpleRNN(32)(embedded)\n",
        "outputs = layers.Dense(128, activation='relu')(x)\n",
        "outputs = layers.Dense(64, activation='relu')(outputs)\n",
        "outputs = layers.Dense(32, activation='relu')(outputs)\n",
        "outputs = layers.Dense(1, activation=\"sigmoid\")(outputs)\n",
        "model = keras.Model(inputs, outputs)\n",
        "model.compile(optimizer=\"rmsprop\",\n",
        "              loss=\"binary_crossentropy\",\n",
        "              metrics=[\"accuracy\"])\n",
        "model.summary()\n",
        "history = model.fit(X_train, y_train,\n",
        "                    epochs=5,\n",
        "                    batch_size=256,\n",
        "                    validation_split=0.2)"
      ]
    },
    {
      "cell_type": "code",
      "execution_count": null,
      "metadata": {
        "colab": {
          "base_uri": "https://localhost:8080/",
          "height": 295
        },
        "id": "BWDZ77a-lR4g",
        "outputId": "6c5dd939-3395-4160-a571-c6dcd3650643"
      },
      "outputs": [
        {
          "data": {
            "image/png": "[encoded data removed]",
            "text/plain": [
              "<Figure size 432x288 with 1 Axes>"
            ]
          },
          "metadata": {},
          "output_type": "display_data"
        }
      ],
      "source": [
        "plt.plot(history.history['accuracy'])\n",
        "plt.plot(history.history['val_accuracy'])\n",
        "plt.title('model accuracy')\n",
        "plt.ylabel('accuracy')\n",
        "plt.xlabel('epoch')\n",
        "plt.legend(['train', 'test'], loc='upper left')\n",
        "plt.show()"
      ]
    },
    {
      "cell_type": "code",
      "execution_count": null,
      "metadata": {
        "colab": {
          "base_uri": "https://localhost:8080/"
        },
        "id": "E1Q6Us5w519c",
        "outputId": "dd6d813d-e39e-4bb9-8d7a-8a69361ad28e"
      },
      "outputs": [
        {
          "name": "stdout",
          "output_type": "stream",
          "text": [
            "15000/15000 [==============================] - 166s 11ms/step - loss: 0.6664 - accuracy: 0.5975\n",
            "15000/15000 [==============================] - 150s 10ms/step\n"
          ]
        }
      ],
      "source": [
        "_, acc = model.evaluate(X_test, y_test)\n",
        "y_pred = model.predict(X_test)\n",
        "y_pred = model.predict(X_test)\n",
        "y_pred = [round(pred[0]) for pred in y_pred]"
      ]
    },
    {
      "cell_type": "code",
      "execution_count": null,
      "metadata": {
        "colab": {
          "base_uri": "https://localhost:8080/"
        },
        "id": "S8ICXfj--dr0",
        "outputId": "e07520ba-d3b9-4fa0-ed8a-7d1b827a8951"
      },
      "outputs": [
        {
          "name": "stdout",
          "output_type": "stream",
          "text": [
            "Test Accuracy: 0.5975375175476074, Precision: 0.5649780713928829, Recall: 0.8480791666666667, F1-Score: 0.6781694599007096\n"
          ]
        }
      ],
      "source": [
        "import sklearn\n",
        "precision = precision_score(y_test, y_pred)\n",
        "recall = recall_score(y_test, y_pred)\n",
        "f1 = sklearn.metrics.f1_score(y_test, y_pred)\n",
        "\n",
        "print(f'Test Accuracy: {acc}, Precision: {precision}, Recall: {recall}, F1-Score: {f1}')\n",
        "results.append([acc, precision, recall, f1])"
      ]
    },
    {
      "cell_type": "code",
      "execution_count": null,
      "metadata": {
        "id": "6X4Ym1QoCm1y"
      },
      "outputs": [],
      "source": [
        "with open('/content/drive/MyDrive/Code /Sentiment Analysis/results.pickle', 'wb') as file:\n",
        "    pickle.dump(results, file)"
      ]
    },
    {
      "cell_type": "markdown",
      "metadata": {
        "id": "hmmYHYDZp-JJ"
      },
      "source": [
        "# **Experiment no. 3 Using RNN with Pretrained word embedding GloVe**"
      ]
    },
    {
      "cell_type": "code",
      "execution_count": null,
      "metadata": {
        "colab": {
          "base_uri": "https://localhost:8080/"
        },
        "id": "V11_pc65rERe",
        "outputId": "c9a2ab63-9f4c-4112-a741-db27636afc8e"
      },
      "outputs": [
        {
          "name": "stdout",
          "output_type": "stream",
          "text": [
            "Found 400000 word vectors.\n"
          ]
        }
      ],
      "source": [
        "path_to_glove_file = \"/content/drive/MyDrive/Code /Sentiment Analysis/glove.6B.100d.txt\"\n",
        "\n",
        "embeddings_index = {}\n",
        "with open(path_to_glove_file) as f:\n",
        "    for line in f:\n",
        "        word, coefs = line.split(maxsplit=1)\n",
        "        coefs = np.fromstring(coefs, \"f\", sep=\" \")\n",
        "        embeddings_index[word] = coefs\n",
        "\n",
        "print(f\"Found {len(embeddings_index)} word vectors.\")"
      ]
    },
    {
      "cell_type": "code",
      "execution_count": null,
      "metadata": {
        "colab": {
          "base_uri": "https://localhost:8080/"
        },
        "id": "gyYJeQTf8H6-",
        "outputId": "cc2b8088-2627-45e0-d256-23f5c529ea09"
      },
      "outputs": [
        {
          "name": "stdout",
          "output_type": "stream",
          "text": [
            "Model: \"model_4\"\n",
            "_________________________________________________________________\n",
            " Layer (type)                Output Shape              Param #   \n",
            "=================================================================\n",
            " input_5 (InputLayer)        [(None, None)]            0         \n",
            "                                                                 \n",
            " embedding_3 (Embedding)     (None, None, 100)         1000000   \n",
            "                                                                 \n",
            " simple_rnn_4 (SimpleRNN)    (None, 32)                4256      \n",
            "                                                                 \n",
            " dense_13 (Dense)            (None, 64)                2112      \n",
            "                                                                 \n",
            " dense_14 (Dense)            (None, 32)                2080      \n",
            "                                                                 \n",
            " dense_15 (Dense)            (None, 1)                 33        \n",
            "                                                                 \n",
            "=================================================================\n",
            "Total params: 1,008,481\n",
            "Trainable params: 8,481\n",
            "Non-trainable params: 1,000,000\n",
            "_________________________________________________________________\n",
            "Epoch 1/5\n",
            "3500/3500 [==============================] - 268s 75ms/step - loss: 0.5524 - accuracy: 0.7133 - val_loss: 0.5313 - val_accuracy: 0.7296\n",
            "Epoch 2/5\n",
            "3500/3500 [==============================] - 247s 70ms/step - loss: 0.5178 - accuracy: 0.7406 - val_loss: 0.5083 - val_accuracy: 0.7478\n",
            "Epoch 3/5\n",
            "3500/3500 [==============================] - 256s 73ms/step - loss: 0.5067 - accuracy: 0.7487 - val_loss: 0.5027 - val_accuracy: 0.7516\n",
            "Epoch 4/5\n",
            "3500/3500 [==============================] - 263s 75ms/step - loss: 0.5006 - accuracy: 0.7530 - val_loss: 0.4973 - val_accuracy: 0.7557\n",
            "Epoch 5/5\n",
            "3500/3500 [==============================] - 245s 70ms/step - loss: 0.4964 - accuracy: 0.7561 - val_loss: 0.5376 - val_accuracy: 0.7343\n"
          ]
        }
      ],
      "source": [
        "import keras\n",
        "embedding_dim = 100\n",
        "word_index = dict(zip(vocabulary, range(len(vocabulary))))\n",
        "\n",
        "embedding_matrix = np.zeros((max_features, embedding_dim))\n",
        "for word, i in word_index.items():\n",
        "    if i < max_features:\n",
        "        embedding_vector = embeddings_index.get(word)\n",
        "    if embedding_vector is not None:\n",
        "        embedding_matrix[i] = embedding_vector\n",
        "\n",
        "\n",
        "embedding_layer = layers.Embedding(\n",
        "    max_features,\n",
        "    embedding_dim,\n",
        "    embeddings_initializer=keras.initializers.Constant(embedding_matrix),\n",
        "    trainable=False,\n",
        "    mask_zero=True,\n",
        ")\n",
        "\n",
        "inputs = keras.Input(shape=(None,), dtype=\"int64\")\n",
        "embedded = embedding_layer(inputs)\n",
        "x = layers.SimpleRNN(32)(embedded)\n",
        "outputs = layers.Dense(64, activation='relu')(x)\n",
        "outputs = layers.Dense(32, activation='relu')(outputs)\n",
        "outputs = layers.Dense(1, activation=\"sigmoid\")(outputs)\n",
        "model = keras.Model(inputs, outputs)\n",
        "model.compile(optimizer=\"rmsprop\",\n",
        "              loss=\"binary_crossentropy\",\n",
        "              metrics=[\"accuracy\"])\n",
        "model.summary()\n",
        "history = model.fit(X_train, y_train,\n",
        "                    epochs=5,\n",
        "                    batch_size=256,\n",
        "                    validation_split=0.2)"
      ]
    },
    {
      "cell_type": "code",
      "execution_count": null,
      "metadata": {
        "colab": {
          "base_uri": "https://localhost:8080/",
          "height": 295
        },
        "id": "DhIUi2Bg-5TM",
        "outputId": "67179726-5b69-48df-e712-d302d891ef3b"
      },
      "outputs": [
        {
          "data": {
            "image/png": "[encoded data removed]",
            "text/plain": [
              "<Figure size 432x288 with 1 Axes>"
            ]
          },
          "metadata": {},
          "output_type": "display_data"
        }
      ],
      "source": [
        "import matplotlib.pyplot as plt\n",
        "plt.plot(history.history['accuracy'])\n",
        "plt.plot(history.history['val_accuracy'])\n",
        "plt.title('model accuracy')\n",
        "plt.ylabel('accuracy')\n",
        "plt.xlabel('epoch')\n",
        "plt.legend(['train', 'test'], loc='upper left')\n",
        "plt.show()"
      ]
    },
    {
      "cell_type": "code",
      "execution_count": null,
      "metadata": {
        "colab": {
          "base_uri": "https://localhost:8080/"
        },
        "id": "rerZ0ecU-2QF",
        "outputId": "73c7fb36-7e89-4f39-cda5-2f6d5b1e02ca"
      },
      "outputs": [
        {
          "name": "stdout",
          "output_type": "stream",
          "text": [
            "15000/15000 [==============================] - 228s 15ms/step\n",
            "Test Accuracy: 0.73515, Precision: 0.8088119418665732, Recall: 0.6158833333333333, F1-Score: 0.6992846870032549\n"
          ]
        }
      ],
      "source": [
        "import sklearn\n",
        "\n",
        "y_pred = model.predict(X_test)\n",
        "y_pred = [round(pred[0]) for pred in y_pred]\n",
        "acc = sklearn.metrics.accuracy_score(y_test, y_pred)\n",
        "precision = sklearn.metrics.precision_score(y_test, y_pred)\n",
        "recall = sklearn.metrics.recall_score(y_test, y_pred)\n",
        "f1_score = sklearn.metrics.f1_score(y_test, y_pred)\n",
        "\n",
        "print(f'Test Accuracy: {acc}, Precision: {precision}, Recall: {recall}, F1-Score: {f1_score}')\n",
        "results.append([acc, precision, recall, f1_score])"
      ]
    },
    {
      "cell_type": "code",
      "execution_count": null,
      "metadata": {
        "id": "4HmDIWfk--3H"
      },
      "outputs": [],
      "source": [
        "with open('/content/drive/MyDrive/Code /Sentiment Analysis/results.pickle', 'wb') as file:\n",
        "    pickle.dump(results, file)"
      ]
    },
    {
      "cell_type": "markdown",
      "metadata": {
        "id": "_vZ0HF0H3m8D"
      },
      "source": [
        "# **Experiment no. 4 Using RNN with Pretrained word embedding GloVe (Additional layer)**"
      ]
    },
    {
      "cell_type": "code",
      "execution_count": null,
      "metadata": {
        "colab": {
          "base_uri": "https://localhost:8080/"
        },
        "id": "XRQYPIfnC55_",
        "outputId": "8d19e0bd-529d-4e5a-b5c9-11d2573d238b"
      },
      "outputs": [
        {
          "name": "stdout",
          "output_type": "stream",
          "text": [
            "Model: \"model_5\"\n",
            "_________________________________________________________________\n",
            " Layer (type)                Output Shape              Param #   \n",
            "=================================================================\n",
            " input_6 (InputLayer)        [(None, None)]            0         \n",
            "                                                                 \n",
            " embedding_3 (Embedding)     (None, None, 100)         1000000   \n",
            "                                                                 \n",
            " simple_rnn_5 (SimpleRNN)    (None, 32)                4256      \n",
            "                                                                 \n",
            " dense_16 (Dense)            (None, 128)               4224      \n",
            "                                                                 \n",
            " dense_17 (Dense)            (None, 64)                8256      \n",
            "                                                                 \n",
            " dense_18 (Dense)            (None, 32)                2080      \n",
            "                                                                 \n",
            " dense_19 (Dense)            (None, 1)                 33        \n",
            "                                                                 \n",
            "=================================================================\n",
            "Total params: 1,018,849\n",
            "Trainable params: 18,849\n",
            "Non-trainable params: 1,000,000\n",
            "_________________________________________________________________\n",
            "Epoch 1/5\n",
            "3500/3500 [==============================] - 243s 69ms/step - loss: 0.5543 - accuracy: 0.7118 - val_loss: 0.5262 - val_accuracy: 0.7333\n",
            "Epoch 2/5\n",
            "3500/3500 [==============================] - 242s 69ms/step - loss: 0.5201 - accuracy: 0.7392 - val_loss: 0.5153 - val_accuracy: 0.7429\n",
            "Epoch 3/5\n",
            "3500/3500 [==============================] - 241s 69ms/step - loss: 0.5079 - accuracy: 0.7480 - val_loss: 0.5045 - val_accuracy: 0.7506\n",
            "Epoch 4/5\n",
            "3500/3500 [==============================] - 245s 70ms/step - loss: 0.5010 - accuracy: 0.7528 - val_loss: 0.5233 - val_accuracy: 0.7391\n",
            "Epoch 5/5\n",
            "3500/3500 [==============================] - 242s 69ms/step - loss: 0.4968 - accuracy: 0.7559 - val_loss: 0.4967 - val_accuracy: 0.7559\n"
          ]
        }
      ],
      "source": [
        "inputs = keras.Input(shape=(None,), dtype=\"int64\")\n",
        "embedded = embedding_layer(inputs)\n",
        "x = layers.SimpleRNN(32)(embedded)\n",
        "outputs = layers.Dense(128, activation='relu')(x)\n",
        "outputs = layers.Dense(64, activation='relu')(outputs)\n",
        "outputs = layers.Dense(32, activation='relu')(outputs)\n",
        "outputs = layers.Dense(1, activation=\"sigmoid\")(outputs)\n",
        "model = keras.Model(inputs, outputs)\n",
        "model.compile(optimizer=\"rmsprop\",\n",
        "              loss=\"binary_crossentropy\",\n",
        "              metrics=[\"accuracy\"])\n",
        "model.summary()\n",
        "history = model.fit(X_train, y_train,\n",
        "                    epochs=5,\n",
        "                    batch_size=256,\n",
        "                    validation_split=0.2)"
      ]
    },
    {
      "cell_type": "code",
      "execution_count": null,
      "metadata": {
        "colab": {
          "base_uri": "https://localhost:8080/",
          "height": 295
        },
        "id": "uvze1bD4DZqt",
        "outputId": "24bdbbcf-cbb4-4c18-c5af-8ef232b2b75c"
      },
      "outputs": [
        {
          "data": {
            "image/png": "[encoded data removed]",
            "text/plain": [
              "<Figure size 432x288 with 1 Axes>"
            ]
          },
          "metadata": {},
          "output_type": "display_data"
        }
      ],
      "source": [
        "plt.plot(history.history['accuracy'])\n",
        "plt.plot(history.history['val_accuracy'])\n",
        "plt.title('model accuracy')\n",
        "plt.ylabel('accuracy')\n",
        "plt.xlabel('epoch')\n",
        "plt.legend(['train', 'test'], loc='upper left')\n",
        "plt.show()"
      ]
    },
    {
      "cell_type": "code",
      "execution_count": null,
      "metadata": {
        "colab": {
          "base_uri": "https://localhost:8080/"
        },
        "id": "-7L5OWknDHHy",
        "outputId": "850deaf0-f8c6-4964-f8fb-3422f17ea6f6"
      },
      "outputs": [
        {
          "name": "stdout",
          "output_type": "stream",
          "text": [
            "15000/15000 [==============================] - 226s 15ms/step\n",
            "Test Accuracy: 0.7564770833333333, Precision: 0.7660654157535519, Recall: 0.7384583333333333, F1-Score: 0.7520085880797962\n"
          ]
        }
      ],
      "source": [
        "y_pred = model.predict(X_test)\n",
        "y_pred = [round(pred[0]) for pred in y_pred]\n",
        "acc = sklearn.metrics.accuracy_score(y_test, y_pred)\n",
        "precision = sklearn.metrics.precision_score(y_test, y_pred)\n",
        "recall = sklearn.metrics.recall_score(y_test, y_pred)\n",
        "f1_score = sklearn.metrics.f1_score(y_test, y_pred)\n",
        "\n",
        "print(f'Test Accuracy: {acc}, Precision: {precision}, Recall: {recall}, F1-Score: {f1_score}')\n",
        "results.append([acc, precision, recall, f1_score])\n",
        "\n",
        "with open('/content/drive/MyDrive/Code /Sentiment Analysis/results.pickle', 'wb') as file:\n",
        "    pickle.dump(results, file)"
      ]
    },
    {
      "cell_type": "markdown",
      "metadata": {
        "id": "AIPwVEJtrH5H"
      },
      "source": [
        "# **Experiment no. 5 Using RNN with Pretrained word embedding GloVe-Twitter**"
      ]
    },
    {
      "cell_type": "code",
      "execution_count": null,
      "metadata": {
        "colab": {
          "base_uri": "https://localhost:8080/"
        },
        "id": "UHRDx_fY36tn",
        "outputId": "b6b9bb74-bf40-42a0-94dd-0985cb9a88e1"
      },
      "outputs": [
        {
          "name": "stdout",
          "output_type": "stream",
          "text": [
            "Found 1193514 word vectors.\n"
          ]
        }
      ],
      "source": [
        "path_to_glove_twitter_file = \"/content/drive/MyDrive/Code /Sentiment Analysis/glove.twitter.27B.100d.txt\"\n",
        "\n",
        "embeddings_index = {}\n",
        "with open(path_to_glove_twitter_file) as f:\n",
        "    for line in f:\n",
        "        word, coefs = line.split(maxsplit=1)\n",
        "        coefs = np.fromstring(coefs, \"f\", sep=\" \")\n",
        "        embeddings_index[word] = coefs\n",
        "\n",
        "print(f\"Found {len(embeddings_index)} word vectors.\")\n",
        "\n",
        "embedding_dim = 100\n",
        "word_index = dict(zip(vocabulary, range(len(vocabulary))))\n",
        "embedding_matrix = np.zeros((max_features, embedding_dim))\n",
        "\n",
        "for word, i in word_index.items():\n",
        "    if i < max_features:\n",
        "        embedding_vector = embeddings_index.get(word)\n",
        "    if embedding_vector is not None:\n",
        "        embedding_matrix[i] = embedding_vector\n",
        "\n",
        "\n",
        "embedding_layer = layers.Embedding(\n",
        "    max_features,\n",
        "    embedding_dim,\n",
        "    embeddings_initializer=keras.initializers.Constant(embedding_matrix),\n",
        "    trainable=False,\n",
        "    mask_zero=True,\n",
        ")"
      ]
    },
    {
      "cell_type": "code",
      "execution_count": null,
      "metadata": {
        "colab": {
          "base_uri": "https://localhost:8080/"
        },
        "id": "r2z1RQVH4AXL",
        "outputId": "db4081c9-6bac-4129-fad5-cf5a4d0b3083"
      },
      "outputs": [
        {
          "name": "stdout",
          "output_type": "stream",
          "text": [
            "Model: \"model_6\"\n",
            "_________________________________________________________________\n",
            " Layer (type)                Output Shape              Param #   \n",
            "=================================================================\n",
            " input_7 (InputLayer)        [(None, None)]            0         \n",
            "                                                                 \n",
            " embedding_4 (Embedding)     (None, None, 100)         1000000   \n",
            "                                                                 \n",
            " simple_rnn_6 (SimpleRNN)    (None, 32)                4256      \n",
            "                                                                 \n",
            " dense_20 (Dense)            (None, 64)                2112      \n",
            "                                                                 \n",
            " dense_21 (Dense)            (None, 32)                2080      \n",
            "                                                                 \n",
            " dense_22 (Dense)            (None, 1)                 33        \n",
            "                                                                 \n",
            "=================================================================\n",
            "Total params: 1,008,481\n",
            "Trainable params: 8,481\n",
            "Non-trainable params: 1,000,000\n",
            "_________________________________________________________________\n",
            "Epoch 1/5\n",
            "3500/3500 [==============================] - 238s 68ms/step - loss: 0.5149 - accuracy: 0.7417 - val_loss: 0.4918 - val_accuracy: 0.7583\n",
            "Epoch 2/5\n",
            "3500/3500 [==============================] - 234s 67ms/step - loss: 0.4897 - accuracy: 0.7596 - val_loss: 0.4816 - val_accuracy: 0.7657\n",
            "Epoch 3/5\n",
            "3500/3500 [==============================] - 235s 67ms/step - loss: 0.4810 - accuracy: 0.7660 - val_loss: 0.4806 - val_accuracy: 0.7657\n",
            "Epoch 4/5\n",
            "3500/3500 [==============================] - 235s 67ms/step - loss: 0.4763 - accuracy: 0.7690 - val_loss: 0.4754 - val_accuracy: 0.7697\n",
            "Epoch 5/5\n",
            "3500/3500 [==============================] - 236s 67ms/step - loss: 0.4732 - accuracy: 0.7713 - val_loss: 0.4723 - val_accuracy: 0.7723\n"
          ]
        }
      ],
      "source": [
        "inputs = keras.Input(shape=(None,), dtype=\"int64\")\n",
        "embedded = embedding_layer(inputs)\n",
        "x = layers.SimpleRNN(32)(embedded)\n",
        "outputs = layers.Dense(64, activation='relu')(x)\n",
        "outputs = layers.Dense(32, activation='relu')(outputs)\n",
        "outputs = layers.Dense(1, activation=\"sigmoid\")(outputs)\n",
        "model = keras.Model(inputs, outputs)\n",
        "model.compile(optimizer=\"rmsprop\",\n",
        "              loss=\"binary_crossentropy\",\n",
        "              metrics=[\"accuracy\"])\n",
        "model.summary()\n",
        "history = model.fit(X_train, y_train,\n",
        "                    epochs=5,\n",
        "                    batch_size=256,\n",
        "                    validation_split=0.2)"
      ]
    },
    {
      "cell_type": "code",
      "execution_count": null,
      "metadata": {
        "colab": {
          "base_uri": "https://localhost:8080/"
        },
        "id": "lPgaUr7N4CYL",
        "outputId": "af646a70-4b70-49bb-e4a3-dd307e327996"
      },
      "outputs": [
        {
          "name": "stdout",
          "output_type": "stream",
          "text": [
            "15000/15000 [==============================] - 219s 15ms/step\n",
            "Test Accuracy: 0.7721270833333334, Precision: 0.7787604198233805, Recall: 0.7602291666666666, F1-Score: 0.7693832241523627\n"
          ]
        }
      ],
      "source": [
        "y_pred = model.predict(X_test)\n",
        "y_pred = [round(pred[0]) for pred in y_pred]\n",
        "acc = sklearn.metrics.accuracy_score(y_test, y_pred)\n",
        "precision = sklearn.metrics.precision_score(y_test, y_pred)\n",
        "recall = sklearn.metrics.recall_score(y_test, y_pred)\n",
        "f1_score = sklearn.metrics.f1_score(y_test, y_pred)\n",
        "\n",
        "print(f'Test Accuracy: {acc}, Precision: {precision}, Recall: {recall}, F1-Score: {f1_score}')\n",
        "results.append([acc, precision, recall, f1_score])\n",
        "\n",
        "with open('/content/drive/MyDrive/Code /Sentiment Analysis/results.pickle', 'wb') as file:\n",
        "    pickle.dump(results, file)"
      ]
    },
    {
      "cell_type": "markdown",
      "metadata": {
        "id": "Yw_7E9zT5c7i"
      },
      "source": [
        "# **Experiment no. 6 Using RNN with Pretrained word embedding GloVe-Twitter (Additional Layer)**"
      ]
    },
    {
      "cell_type": "code",
      "execution_count": null,
      "metadata": {
        "colab": {
          "base_uri": "https://localhost:8080/"
        },
        "id": "a6Xup4cz5Zx1",
        "outputId": "7cdcb7f1-5c56-4b20-9ab9-0d93179e4069"
      },
      "outputs": [
        {
          "name": "stdout",
          "output_type": "stream",
          "text": [
            "Model: \"model_7\"\n",
            "_________________________________________________________________\n",
            " Layer (type)                Output Shape              Param #   \n",
            "=================================================================\n",
            " input_8 (InputLayer)        [(None, None)]            0         \n",
            "                                                                 \n",
            " embedding_4 (Embedding)     (None, None, 100)         1000000   \n",
            "                                                                 \n",
            " simple_rnn_7 (SimpleRNN)    (None, 32)                4256      \n",
            "                                                                 \n",
            " dense_23 (Dense)            (None, 128)               4224      \n",
            "                                                                 \n",
            " dense_24 (Dense)            (None, 64)                8256      \n",
            "                                                                 \n",
            " dense_25 (Dense)            (None, 32)                2080      \n",
            "                                                                 \n",
            " dense_26 (Dense)            (None, 1)                 33        \n",
            "                                                                 \n",
            "=================================================================\n",
            "Total params: 1,018,849\n",
            "Trainable params: 18,849\n",
            "Non-trainable params: 1,000,000\n",
            "_________________________________________________________________\n",
            "Epoch 1/5\n",
            "3500/3500 [==============================] - 240s 68ms/step - loss: 0.5162 - accuracy: 0.7413 - val_loss: 0.4945 - val_accuracy: 0.7562\n",
            "Epoch 2/5\n",
            "3500/3500 [==============================] - 238s 68ms/step - loss: 0.4897 - accuracy: 0.7605 - val_loss: 0.4894 - val_accuracy: 0.7618\n",
            "Epoch 3/5\n",
            "3500/3500 [==============================] - 237s 68ms/step - loss: 0.4809 - accuracy: 0.7666 - val_loss: 0.4764 - val_accuracy: 0.7703\n",
            "Epoch 4/5\n",
            "3500/3500 [==============================] - 237s 68ms/step - loss: 0.4764 - accuracy: 0.7693 - val_loss: 0.4749 - val_accuracy: 0.7716\n",
            "Epoch 5/5\n",
            "3500/3500 [==============================] - 236s 67ms/step - loss: 0.4732 - accuracy: 0.7717 - val_loss: 0.4744 - val_accuracy: 0.7715\n"
          ]
        }
      ],
      "source": [
        "inputs = keras.Input(shape=(None,), dtype=\"int64\")\n",
        "embedded = embedding_layer(inputs)\n",
        "x = layers.SimpleRNN(32)(embedded)\n",
        "outputs = layers.Dense(128, activation='relu')(x)\n",
        "outputs = layers.Dense(64, activation='relu')(outputs)\n",
        "outputs = layers.Dense(32, activation='relu')(outputs)\n",
        "outputs = layers.Dense(1, activation=\"sigmoid\")(outputs)\n",
        "model = keras.Model(inputs, outputs)\n",
        "model.compile(optimizer=\"rmsprop\",\n",
        "              loss=\"binary_crossentropy\",\n",
        "              metrics=[\"accuracy\"])\n",
        "model.summary()\n",
        "history = model.fit(X_train, y_train,\n",
        "                    epochs=5,\n",
        "                    batch_size=256,\n",
        "                    validation_split=0.2)"
      ]
    },
    {
      "cell_type": "code",
      "execution_count": null,
      "metadata": {
        "colab": {
          "base_uri": "https://localhost:8080/"
        },
        "id": "3J9fujAh5nGG",
        "outputId": "2584c6a3-07dd-4816-fdb5-b0bff7c5466e"
      },
      "outputs": [
        {
          "name": "stdout",
          "output_type": "stream",
          "text": [
            "15000/15000 [==============================] - 218s 15ms/step\n",
            "Test Accuracy: 0.7707729166666667, Precision: 0.7829306839307405, Recall: 0.7492875, F1-Score: 0.7657397373144242\n"
          ]
        }
      ],
      "source": [
        "y_pred = model.predict(X_test)\n",
        "y_pred = [round(pred[0]) for pred in y_pred]\n",
        "acc = sklearn.metrics.accuracy_score(y_test, y_pred)\n",
        "precision = sklearn.metrics.precision_score(y_test, y_pred)\n",
        "recall = sklearn.metrics.recall_score(y_test, y_pred)\n",
        "f1_score = sklearn.metrics.f1_score(y_test, y_pred)\n",
        "\n",
        "print(f'Test Accuracy: {acc}, Precision: {precision}, Recall: {recall}, F1-Score: {f1_score}')\n",
        "results.append([acc, precision, recall, f1_score])\n",
        "\n",
        "with open('/content/drive/MyDrive/Code /Sentiment Analysis/results.pickle', 'wb') as file:\n",
        "    pickle.dump(results, file)"
      ]
    },
    {
      "cell_type": "markdown",
      "metadata": {
        "id": "GUBG9syNCRX8"
      },
      "source": [
        "# **Experiment no. 7 Using RNN with Pretrained word embedding FastText**"
      ]
    },
    {
      "cell_type": "code",
      "execution_count": null,
      "metadata": {
        "colab": {
          "base_uri": "https://localhost:8080/"
        },
        "id": "ZXHXjP9t7APF",
        "outputId": "867a167b-1094-423d-a5c6-537497724dc3"
      },
      "outputs": [
        {
          "name": "stdout",
          "output_type": "stream",
          "text": [
            "Found 999995 word vectors.\n"
          ]
        }
      ],
      "source": [
        "import io\n",
        "\n",
        "embeddings_index = {}\n",
        "fname = '/content/drive/MyDrive/Code /Sentiment Analysis/wiki-news-300d-1M.vec'\n",
        "\n",
        "# Reading the vec file and extracting words along with their 300d vectors\n",
        "fin = io.open(fname, 'r', encoding='utf-8', newline='\\n', errors='ignore')\n",
        "x = fin.readline().split()\n",
        "all = []\n",
        "i = 0\n",
        "\n",
        "while x:\n",
        "  if i == 0: \n",
        "    i = -1\n",
        "    continue\n",
        "  \n",
        "  line = ' '.join(x)\n",
        "  word, coefs = line.split(maxsplit=1)\n",
        "  coefs = np.fromstring(coefs, \"f\", sep=\" \")\n",
        "  embeddings_index[word] = coefs\n",
        "  x = fin.readline().split()\n",
        "\n",
        "print(f\"Found {len(embeddings_index)} word vectors.\")"
      ]
    },
    {
      "cell_type": "code",
      "execution_count": null,
      "metadata": {
        "id": "Pjenv6ytGkwy"
      },
      "outputs": [],
      "source": [
        "import keras\n",
        "embedding_dim = 300\n",
        "word_index = dict(zip(vocabulary, range(len(vocabulary))))\n",
        "embedding_matrix = np.zeros((max_features, embedding_dim))\n",
        "\n",
        "for word, i in word_index.items():\n",
        "    if i < max_features:\n",
        "        embedding_vector = embeddings_index.get(word)\n",
        "    if embedding_vector is not None:\n",
        "        embedding_matrix[i] = embedding_vector\n",
        "\n",
        "\n",
        "embedding_layer = layers.Embedding(\n",
        "    max_features,\n",
        "    embedding_dim,\n",
        "    embeddings_initializer=keras.initializers.Constant(embedding_matrix),\n",
        "    trainable=False,\n",
        "    mask_zero=True,\n",
        ")"
      ]
    },
    {
      "cell_type": "code",
      "execution_count": null,
      "metadata": {
        "id": "MpdeLaTrGs__"
      },
      "outputs": [],
      "source": [
        "inputs = keras.Input(shape=(None,), dtype=\"int64\")\n",
        "embedded = embedding_layer(inputs)\n",
        "x = layers.SimpleRNN(32)(embedded)\n",
        "outputs = layers.Dense(64, activation='relu')(x)\n",
        "outputs = layers.Dense(32, activation='relu')(outputs)\n",
        "outputs = layers.Dense(1, activation=\"sigmoid\")(outputs)\n",
        "model = keras.Model(inputs, outputs)\n",
        "model.compile(optimizer=\"rmsprop\",\n",
        "              loss=\"binary_crossentropy\",\n",
        "              metrics=[\"accuracy\"])\n",
        "model.summary()\n",
        "history = model.fit(X_train, y_train,\n",
        "                    epochs=5,\n",
        "                    batch_size=256,\n",
        "                    validation_split=0.2)\n",
        "\n",
        "y_pred = model.predict(X_test)\n",
        "y_pred = [round(pred[0]) for pred in y_pred]"
      ]
    },
    {
      "cell_type": "code",
      "execution_count": null,
      "metadata": {
        "colab": {
          "base_uri": "https://localhost:8080/"
        },
        "id": "JiUdh6iEy_xI",
        "outputId": "68188416-59c4-4ea7-8536-1928c5f1ac7e"
      },
      "outputs": [
        {
          "name": "stdout",
          "output_type": "stream",
          "text": [
            "Test Accuracy: 0.7716, Precision: 0.7800096223237912, Recall: 0.7565833333333334, F1-Score: 0.7681179038562412\n"
          ]
        }
      ],
      "source": [
        "import sklearn\n",
        "acc = sklearn.metrics.accuracy_score(y_test, y_pred)\n",
        "precision = sklearn.metrics.precision_score(y_test, y_pred)\n",
        "recall = sklearn.metrics.recall_score(y_test, y_pred)\n",
        "f1_score = sklearn.metrics.f1_score(y_test, y_pred)\n",
        "\n",
        "print(f'Test Accuracy: {acc}, Precision: {precision}, Recall: {recall}, F1-Score: {f1_score}')\n",
        "results.append([acc, precision, recall, f1_score])\n",
        "\n",
        "with open('/content/drive/MyDrive/Code /Sentiment Analysis/results.pickle', 'wb') as file:\n",
        "    pickle.dump(results, file)"
      ]
    },
    {
      "cell_type": "markdown",
      "metadata": {
        "id": "NpNuV-tmk7Cv"
      },
      "source": [
        "# **Experiment no. 8 Using RNN with Pretrained word embedding FastText (Additional Layer)**"
      ]
    },
    {
      "cell_type": "code",
      "execution_count": null,
      "metadata": {
        "colab": {
          "base_uri": "https://localhost:8080/"
        },
        "id": "qTsCkeX-k_NF",
        "outputId": "d486aeca-0bd5-4094-ca7b-72c44561a006"
      },
      "outputs": [
        {
          "name": "stdout",
          "output_type": "stream",
          "text": [
            "Model: \"model_2\"\n",
            "_________________________________________________________________\n",
            " Layer (type)                Output Shape              Param #   \n",
            "=================================================================\n",
            " input_5 (InputLayer)        [(None, None)]            0         \n",
            "                                                                 \n",
            " embedding (Embedding)       (None, None, 300)         3000000   \n",
            "                                                                 \n",
            " simple_rnn_2 (SimpleRNN)    (None, 32)                10656     \n",
            "                                                                 \n",
            " dense_6 (Dense)             (None, 128)               4224      \n",
            "                                                                 \n",
            " dense_7 (Dense)             (None, 64)                8256      \n",
            "                                                                 \n",
            " dense_8 (Dense)             (None, 32)                2080      \n",
            "                                                                 \n",
            " dense_9 (Dense)             (None, 1)                 33        \n",
            "                                                                 \n",
            "=================================================================\n",
            "Total params: 3,025,249\n",
            "Trainable params: 25,249\n",
            "Non-trainable params: 3,000,000\n",
            "_________________________________________________________________\n",
            "Epoch 1/5\n",
            "3500/3500 [==============================] - 817s 233ms/step - loss: 0.5149 - accuracy: 0.7426 - val_loss: 0.5007 - val_accuracy: 0.7512\n",
            "Epoch 2/5\n",
            "3500/3500 [==============================] - 884s 253ms/step - loss: 0.4882 - accuracy: 0.7619 - val_loss: 0.4843 - val_accuracy: 0.7666\n",
            "Epoch 3/5\n",
            "3500/3500 [==============================] - 872s 249ms/step - loss: 0.4795 - accuracy: 0.7678 - val_loss: 0.4798 - val_accuracy: 0.7676\n",
            "Epoch 4/5\n",
            "3500/3500 [==============================] - 829s 237ms/step - loss: 0.4748 - accuracy: 0.7708 - val_loss: 0.4745 - val_accuracy: 0.7709\n",
            "Epoch 5/5\n",
            "3500/3500 [==============================] - 633s 181ms/step - loss: 0.4716 - accuracy: 0.7728 - val_loss: 0.4854 - val_accuracy: 0.7655\n",
            "15000/15000 [==============================] - 239s 16ms/step\n",
            "Test Accuracy: 0.766675, Precision: 0.8003012302581571, Recall: 0.7106875, F1-Score: 0.7528369592563657\n"
          ]
        }
      ],
      "source": [
        "inputs = keras.Input(shape=(None,), dtype=\"int64\")\n",
        "embedded = embedding_layer(inputs)\n",
        "x = layers.SimpleRNN(32)(embedded)\n",
        "outputs = layers.Dense(128, activation='relu')(x)\n",
        "outputs = layers.Dense(64, activation='relu')(outputs)\n",
        "outputs = layers.Dense(32, activation='relu')(outputs)\n",
        "outputs = layers.Dense(1, activation=\"sigmoid\")(outputs)\n",
        "model = keras.Model(inputs, outputs)\n",
        "model.compile(optimizer=\"rmsprop\",\n",
        "              loss=\"binary_crossentropy\",\n",
        "              metrics=[\"accuracy\"])\n",
        "model.summary()\n",
        "history = model.fit(X_train, y_train,\n",
        "                    epochs=5,\n",
        "                    batch_size=256,\n",
        "                    validation_split=0.2)\n",
        "\n",
        "y_pred = model.predict(X_test)\n",
        "y_pred = [round(pred[0]) for pred in y_pred]\n",
        "acc = sklearn.metrics.accuracy_score(y_test, y_pred)\n",
        "precision = sklearn.metrics.precision_score(y_test, y_pred)\n",
        "recall = sklearn.metrics.recall_score(y_test, y_pred)\n",
        "f1_score = sklearn.metrics.f1_score(y_test, y_pred)\n",
        "\n",
        "print(f'Test Accuracy: {acc}, Precision: {precision}, Recall: {recall}, F1-Score: {f1_score}')\n",
        "results.append([acc, precision, recall, f1_score])\n",
        "\n",
        "with open('/content/drive/MyDrive/Code /Sentiment Analysis/results.pickle', 'wb') as file:\n",
        "    pickle.dump(results, file)"
      ]
    },
    {
      "cell_type": "markdown",
      "metadata": {
        "id": "9IQfyJsHhQSb"
      },
      "source": [
        "# **Experiment no. 9 Using LSTM with Embedding Layer**"
      ]
    },
    {
      "cell_type": "code",
      "execution_count": null,
      "metadata": {
        "colab": {
          "base_uri": "https://localhost:8080/"
        },
        "id": "detbELNZhH9W",
        "outputId": "191fae67-a1dd-4185-e79b-ee5ff7187b1f"
      },
      "outputs": [
        {
          "name": "stdout",
          "output_type": "stream",
          "text": [
            "Model: \"model_8\"\n",
            "_________________________________________________________________\n",
            " Layer (type)                Output Shape              Param #   \n",
            "=================================================================\n",
            " input_9 (InputLayer)        [(None, None)]            0         \n",
            "                                                                 \n",
            " embedding_5 (Embedding)     (None, None, 140)         1400000   \n",
            "                                                                 \n",
            " bidirectional (Bidirectiona  (None, 64)               44288     \n",
            " l)                                                              \n",
            "                                                                 \n",
            " dense_27 (Dense)            (None, 64)                4160      \n",
            "                                                                 \n",
            " dense_28 (Dense)            (None, 32)                2080      \n",
            "                                                                 \n",
            " dense_29 (Dense)            (None, 1)                 33        \n",
            "                                                                 \n",
            "=================================================================\n",
            "Total params: 1,450,561\n",
            "Trainable params: 1,450,561\n",
            "Non-trainable params: 0\n",
            "_________________________________________________________________\n",
            "Epoch 1/5\n",
            "2987/2987 [==============================] - 70s 21ms/step - loss: 0.4705 - accuracy: 0.7738 - val_loss: 0.4509 - val_accuracy: 0.7853\n",
            "Epoch 2/5\n",
            "2987/2987 [==============================] - 59s 20ms/step - loss: 0.4419 - accuracy: 0.7921 - val_loss: 0.4458 - val_accuracy: 0.7901\n",
            "Epoch 3/5\n",
            "2987/2987 [==============================] - 60s 20ms/step - loss: 0.4312 - accuracy: 0.7985 - val_loss: 0.4390 - val_accuracy: 0.7919\n",
            "Epoch 4/5\n",
            "2987/2987 [==============================] - 59s 20ms/step - loss: 0.4228 - accuracy: 0.8036 - val_loss: 0.4402 - val_accuracy: 0.7921\n",
            "Epoch 5/5\n",
            "2987/2987 [==============================] - 60s 20ms/step - loss: 0.4156 - accuracy: 0.8080 - val_loss: 0.4416 - val_accuracy: 0.7916\n",
            "15000/15000 [==============================] - 96s 6ms/step\n",
            "Test Accuracy: 0.7923291666666666, Precision: 0.7750427310219379, Recall: 0.8237541666666667, F1-Score: 0.7986563896227711\n"
          ]
        }
      ],
      "source": [
        "import keras\n",
        "inputs = keras.Input(shape=(None,), dtype=\"int64\")\n",
        "embedded = layers.Embedding(max_features, max_length)(inputs)\n",
        "x = layers.Bidirectional(layers.LSTM(32))(embedded)\n",
        "outputs = layers.Dense(64, activation='relu')(x)\n",
        "outputs = layers.Dense(32, activation='relu')(outputs)\n",
        "outputs = layers.Dense(1, activation=\"sigmoid\")(outputs)\n",
        "model = keras.Model(inputs, outputs)\n",
        "model.compile(optimizer=\"rmsprop\",\n",
        "              loss=\"binary_crossentropy\",\n",
        "              metrics=[\"accuracy\"])\n",
        "model.summary()\n",
        "history = model.fit(X_train, y_train,\n",
        "                    epochs=5,\n",
        "                    batch_size=300,\n",
        "                    validation_split=0.2)\n",
        "\n",
        "y_pred = model.predict(X_test)\n",
        "y_pred = [round(pred[0]) for pred in y_pred]\n",
        "acc = sklearn.metrics.accuracy_score(y_test, y_pred)\n",
        "precision = sklearn.metrics.precision_score(y_test, y_pred)\n",
        "recall = sklearn.metrics.recall_score(y_test, y_pred)\n",
        "f1_score = sklearn.metrics.f1_score(y_test, y_pred)\n",
        "\n",
        "print(f'Test Accuracy: {acc}, Precision: {precision}, Recall: {recall}, F1-Score: {f1_score}')\n",
        "results.append([acc, precision, recall, f1_score])\n",
        "\n",
        "with open('/content/drive/MyDrive/Code /Sentiment Analysis/results.pickle', 'wb') as file:\n",
        "    pickle.dump(results, file)"
      ]
    },
    {
      "cell_type": "markdown",
      "metadata": {
        "id": "nJuVySR-iBDu"
      },
      "source": [
        "# **Experiment no. 10 Using LSTM with Embedding Layer (Additional Layer)**"
      ]
    },
    {
      "cell_type": "code",
      "execution_count": null,
      "metadata": {
        "colab": {
          "base_uri": "https://localhost:8080/"
        },
        "id": "JojZUaPHh1cZ",
        "outputId": "3b0c8a25-ced8-40c7-8e17-a1f2375dc85a"
      },
      "outputs": [
        {
          "name": "stdout",
          "output_type": "stream",
          "text": [
            "Model: \"model_9\"\n",
            "_________________________________________________________________\n",
            " Layer (type)                Output Shape              Param #   \n",
            "=================================================================\n",
            " input_10 (InputLayer)       [(None, None)]            0         \n",
            "                                                                 \n",
            " embedding_6 (Embedding)     (None, None, 140)         1400000   \n",
            "                                                                 \n",
            " bidirectional_1 (Bidirectio  (None, 64)               44288     \n",
            " nal)                                                            \n",
            "                                                                 \n",
            " dense_30 (Dense)            (None, 128)               8320      \n",
            "                                                                 \n",
            " dense_31 (Dense)            (None, 64)                8256      \n",
            "                                                                 \n",
            " dense_32 (Dense)            (None, 32)                2080      \n",
            "                                                                 \n",
            " dense_33 (Dense)            (None, 1)                 33        \n",
            "                                                                 \n",
            "=================================================================\n",
            "Total params: 1,462,977\n",
            "Trainable params: 1,462,977\n",
            "Non-trainable params: 0\n",
            "_________________________________________________________________\n",
            "Epoch 1/5\n",
            "2987/2987 [==============================] - 64s 21ms/step - loss: 0.4700 - accuracy: 0.7742 - val_loss: 0.4500 - val_accuracy: 0.7860\n",
            "Epoch 2/5\n",
            "2987/2987 [==============================] - 63s 21ms/step - loss: 0.4425 - accuracy: 0.7915 - val_loss: 0.4478 - val_accuracy: 0.7894\n",
            "Epoch 3/5\n",
            "2987/2987 [==============================] - 62s 21ms/step - loss: 0.4315 - accuracy: 0.7982 - val_loss: 0.4432 - val_accuracy: 0.7896\n",
            "Epoch 4/5\n",
            "2987/2987 [==============================] - 61s 20ms/step - loss: 0.4232 - accuracy: 0.8033 - val_loss: 0.4575 - val_accuracy: 0.7830\n",
            "Epoch 5/5\n",
            "2987/2987 [==============================] - 57s 19ms/step - loss: 0.4168 - accuracy: 0.8074 - val_loss: 0.4415 - val_accuracy: 0.7903\n",
            "15000/15000 [==============================] - 90s 6ms/step\n",
            "Test Accuracy: 0.791825, Precision: 0.7980365790347151, Recall: 0.7814041666666667, F1-Score: 0.7896327984538882\n"
          ]
        }
      ],
      "source": [
        "import keras\n",
        "inputs = keras.Input(shape=(None,), dtype=\"int64\")\n",
        "embedded = layers.Embedding(max_features, max_length)(inputs)\n",
        "x = layers.Bidirectional(layers.LSTM(32))(embedded)\n",
        "outputs = layers.Dense(128, activation='relu')(x)\n",
        "outputs = layers.Dense(64, activation='relu')(outputs)\n",
        "outputs = layers.Dense(32, activation='relu')(outputs)\n",
        "outputs = layers.Dense(1, activation=\"sigmoid\")(outputs)\n",
        "model = keras.Model(inputs, outputs)\n",
        "model.compile(optimizer=\"rmsprop\",\n",
        "              loss=\"binary_crossentropy\",\n",
        "              metrics=[\"accuracy\"])\n",
        "model.summary()\n",
        "history = model.fit(X_train, y_train,\n",
        "                    epochs=5,\n",
        "                    batch_size=300,\n",
        "                    validation_split=0.2)\n",
        "\n",
        "y_pred = model.predict(X_test)\n",
        "y_pred = [round(pred[0]) for pred in y_pred]\n",
        "acc = sklearn.metrics.accuracy_score(y_test, y_pred)\n",
        "precision = sklearn.metrics.precision_score(y_test, y_pred)\n",
        "recall = sklearn.metrics.recall_score(y_test, y_pred)\n",
        "f1_score = sklearn.metrics.f1_score(y_test, y_pred)\n",
        "\n",
        "print(f'Test Accuracy: {acc}, Precision: {precision}, Recall: {recall}, F1-Score: {f1_score}')\n",
        "results.append([acc, precision, recall, f1_score])\n",
        "\n",
        "with open('/content/drive/MyDrive/Code /Sentiment Analysis/results.pickle', 'wb') as file:\n",
        "    pickle.dump(results, file)"
      ]
    },
    {
      "cell_type": "markdown",
      "metadata": {
        "id": "FeQrIRAtidL5"
      },
      "source": [
        "# **Experiment no. 11 Using LSTM with Pretrained word embedding GloVe**"
      ]
    },
    {
      "cell_type": "code",
      "execution_count": null,
      "metadata": {
        "colab": {
          "base_uri": "https://localhost:8080/"
        },
        "id": "xODb8hfSiJyP",
        "outputId": "c1923e86-0144-414c-bac9-7d0e72309693"
      },
      "outputs": [
        {
          "name": "stdout",
          "output_type": "stream",
          "text": [
            "Found 400000 word vectors.\n",
            "Model: \"model_10\"\n",
            "_________________________________________________________________\n",
            " Layer (type)                Output Shape              Param #   \n",
            "=================================================================\n",
            " input_11 (InputLayer)       [(None, None)]            0         \n",
            "                                                                 \n",
            " embedding_7 (Embedding)     (None, None, 100)         1000000   \n",
            "                                                                 \n",
            " bidirectional_2 (Bidirectio  (None, 64)               34048     \n",
            " nal)                                                            \n",
            "                                                                 \n",
            " dense_34 (Dense)            (None, 64)                4160      \n",
            "                                                                 \n",
            " dense_35 (Dense)            (None, 32)                2080      \n",
            "                                                                 \n",
            " dense_36 (Dense)            (None, 1)                 33        \n",
            "                                                                 \n",
            "=================================================================\n",
            "Total params: 1,040,321\n",
            "Trainable params: 40,321\n",
            "Non-trainable params: 1,000,000\n",
            "_________________________________________________________________\n",
            "Epoch 1/5\n",
            "3500/3500 [==============================] - 68s 18ms/step - loss: 0.5113 - accuracy: 0.7440 - val_loss: 0.4846 - val_accuracy: 0.7631\n",
            "Epoch 2/5\n",
            "3500/3500 [==============================] - 62s 18ms/step - loss: 0.4752 - accuracy: 0.7692 - val_loss: 0.4704 - val_accuracy: 0.7734\n",
            "Epoch 3/5\n",
            "3500/3500 [==============================] - 58s 16ms/step - loss: 0.4630 - accuracy: 0.7768 - val_loss: 0.4659 - val_accuracy: 0.7747\n",
            "Epoch 4/5\n",
            "3500/3500 [==============================] - 56s 16ms/step - loss: 0.4557 - accuracy: 0.7816 - val_loss: 0.4606 - val_accuracy: 0.7788\n",
            "Epoch 5/5\n",
            "3500/3500 [==============================] - 57s 16ms/step - loss: 0.4502 - accuracy: 0.7851 - val_loss: 0.4578 - val_accuracy: 0.7810\n",
            "15000/15000 [==============================] - 54s 3ms/step\n",
            "Test Accuracy: 0.7811708333333334, Precision: 0.7727629164342477, Recall: 0.7965833333333333, F1-Score: 0.7844923450650187\n"
          ]
        }
      ],
      "source": [
        "path_to_glove_file = \"/content/drive/MyDrive/Code /Sentiment Analysis/glove.6B.100d.txt\"\n",
        "\n",
        "embeddings_index = {}\n",
        "with open(path_to_glove_file) as f:\n",
        "    for line in f:\n",
        "        word, coefs = line.split(maxsplit=1)\n",
        "        coefs = np.fromstring(coefs, \"f\", sep=\" \")\n",
        "        embeddings_index[word] = coefs\n",
        "\n",
        "print(f\"Found {len(embeddings_index)} word vectors.\")\n",
        "\n",
        "embedding_dim = 100\n",
        "word_index = dict(zip(vocabulary, range(len(vocabulary))))\n",
        "\n",
        "embedding_matrix = np.zeros((max_features, embedding_dim))\n",
        "for word, i in word_index.items():\n",
        "    if i < max_features:\n",
        "        embedding_vector = embeddings_index.get(word)\n",
        "    if embedding_vector is not None:\n",
        "        embedding_matrix[i] = embedding_vector\n",
        "\n",
        "\n",
        "embedding_layer = layers.Embedding(\n",
        "    max_features,\n",
        "    embedding_dim,\n",
        "    embeddings_initializer=keras.initializers.Constant(embedding_matrix),\n",
        "    trainable=False,\n",
        "    mask_zero=True,\n",
        ")\n",
        "\n",
        "inputs = keras.Input(shape=(None,), dtype=\"int64\")\n",
        "embedded = embedding_layer(inputs)\n",
        "x = layers.Bidirectional(layers.LSTM(32))(embedded)\n",
        "outputs = layers.Dense(64, activation='relu')(x)\n",
        "outputs = layers.Dense(32, activation='relu')(outputs)\n",
        "outputs = layers.Dense(1, activation=\"sigmoid\")(outputs)\n",
        "model = keras.Model(inputs, outputs)\n",
        "model.compile(optimizer=\"rmsprop\",\n",
        "              loss=\"binary_crossentropy\",\n",
        "              metrics=[\"accuracy\"])\n",
        "model.summary()\n",
        "history = model.fit(X_train, y_train,\n",
        "                    epochs=5,\n",
        "                    batch_size=256,\n",
        "                    validation_split=0.2)\n",
        "\n",
        "y_pred = model.predict(X_test)\n",
        "y_pred = [round(pred[0]) for pred in y_pred]\n",
        "acc = sklearn.metrics.accuracy_score(y_test, y_pred)\n",
        "precision = sklearn.metrics.precision_score(y_test, y_pred)\n",
        "recall = sklearn.metrics.recall_score(y_test, y_pred)\n",
        "f1_score = sklearn.metrics.f1_score(y_test, y_pred)\n",
        "\n",
        "print(f'Test Accuracy: {acc}, Precision: {precision}, Recall: {recall}, F1-Score: {f1_score}')\n",
        "results.append([acc, precision, recall, f1_score])\n",
        "\n",
        "with open('/content/drive/MyDrive/Code /Sentiment Analysis/results.pickle', 'wb') as file:\n",
        "    pickle.dump(results, file)"
      ]
    },
    {
      "cell_type": "markdown",
      "metadata": {
        "id": "ybMqr-vbjOqr"
      },
      "source": [
        "# **Experiment no. 12 Using LSTM with Pretrained word embedding GloVe (Additional Layer)**"
      ]
    },
    {
      "cell_type": "code",
      "execution_count": null,
      "metadata": {
        "colab": {
          "base_uri": "https://localhost:8080/"
        },
        "id": "hIkmKtSVjHgF",
        "outputId": "5b597f60-8033-4b4d-b637-bfd4d30479b4"
      },
      "outputs": [
        {
          "name": "stdout",
          "output_type": "stream",
          "text": [
            "Model: \"model_11\"\n",
            "_________________________________________________________________\n",
            " Layer (type)                Output Shape              Param #   \n",
            "=================================================================\n",
            " input_12 (InputLayer)       [(None, None)]            0         \n",
            "                                                                 \n",
            " embedding_7 (Embedding)     (None, None, 100)         1000000   \n",
            "                                                                 \n",
            " bidirectional_3 (Bidirectio  (None, 64)               34048     \n",
            " nal)                                                            \n",
            "                                                                 \n",
            " dense_37 (Dense)            (None, 128)               8320      \n",
            "                                                                 \n",
            " dense_38 (Dense)            (None, 64)                8256      \n",
            "                                                                 \n",
            " dense_39 (Dense)            (None, 32)                2080      \n",
            "                                                                 \n",
            " dense_40 (Dense)            (None, 1)                 33        \n",
            "                                                                 \n",
            "=================================================================\n",
            "Total params: 1,052,737\n",
            "Trainable params: 52,737\n",
            "Non-trainable params: 1,000,000\n",
            "_________________________________________________________________\n",
            "Epoch 1/5\n",
            "3500/3500 [==============================] - 66s 17ms/step - loss: 0.5113 - accuracy: 0.7434 - val_loss: 0.4828 - val_accuracy: 0.7655\n",
            "Epoch 2/5\n",
            "3500/3500 [==============================] - 59s 17ms/step - loss: 0.4753 - accuracy: 0.7691 - val_loss: 0.4703 - val_accuracy: 0.7720\n",
            "Epoch 3/5\n",
            "3500/3500 [==============================] - 58s 17ms/step - loss: 0.4631 - accuracy: 0.7771 - val_loss: 0.4639 - val_accuracy: 0.7773\n",
            "Epoch 4/5\n",
            "3500/3500 [==============================] - 58s 17ms/step - loss: 0.4555 - accuracy: 0.7819 - val_loss: 0.4632 - val_accuracy: 0.7770\n",
            "Epoch 5/5\n",
            "3500/3500 [==============================] - 59s 17ms/step - loss: 0.4499 - accuracy: 0.7854 - val_loss: 0.4589 - val_accuracy: 0.7803\n",
            "15000/15000 [==============================] - 54s 3ms/step\n",
            "Test Accuracy: 0.7806479166666667, Precision: 0.7678502547053888, Recall: 0.8045375, F1-Score: 0.7857658805169015\n"
          ]
        }
      ],
      "source": [
        "inputs = keras.Input(shape=(None,), dtype=\"int64\")\n",
        "embedded = embedding_layer(inputs)\n",
        "x = layers.Bidirectional(layers.LSTM(32))(embedded)\n",
        "outputs = layers.Dense(128, activation='relu')(x)\n",
        "outputs = layers.Dense(64, activation='relu')(outputs)\n",
        "outputs = layers.Dense(32, activation='relu')(outputs)\n",
        "outputs = layers.Dense(1, activation=\"sigmoid\")(outputs)\n",
        "model = keras.Model(inputs, outputs)\n",
        "model.compile(optimizer=\"rmsprop\",\n",
        "              loss=\"binary_crossentropy\",\n",
        "              metrics=[\"accuracy\"])\n",
        "model.summary()\n",
        "history = model.fit(X_train, y_train,\n",
        "                    epochs=5,\n",
        "                    batch_size=256,\n",
        "                    validation_split=0.2)\n",
        "\n",
        "y_pred = model.predict(X_test)\n",
        "y_pred = [round(pred[0]) for pred in y_pred]\n",
        "acc = sklearn.metrics.accuracy_score(y_test, y_pred)\n",
        "precision = sklearn.metrics.precision_score(y_test, y_pred)\n",
        "recall = sklearn.metrics.recall_score(y_test, y_pred)\n",
        "f1_score = sklearn.metrics.f1_score(y_test, y_pred)\n",
        "\n",
        "print(f'Test Accuracy: {acc}, Precision: {precision}, Recall: {recall}, F1-Score: {f1_score}')\n",
        "results.append([acc, precision, recall, f1_score])\n",
        "\n",
        "with open('/content/drive/MyDrive/Code /Sentiment Analysis/results.pickle', 'wb') as file:\n",
        "    pickle.dump(results, file)"
      ]
    },
    {
      "cell_type": "markdown",
      "metadata": {
        "id": "jGwKK_Hhj9Tb"
      },
      "source": [
        "# **Experiment no. 13 Using LSTM with Pretrained word embedding GloVe-Twitter**"
      ]
    },
    {
      "cell_type": "code",
      "execution_count": null,
      "metadata": {
        "colab": {
          "base_uri": "https://localhost:8080/"
        },
        "id": "xsQcXSJAjjEm",
        "outputId": "fec27eb5-6114-4581-e8b6-4aa379030b6a"
      },
      "outputs": [
        {
          "name": "stdout",
          "output_type": "stream",
          "text": [
            "Found 1193514 word vectors.\n",
            "Model: \"model_12\"\n",
            "_________________________________________________________________\n",
            " Layer (type)                Output Shape              Param #   \n",
            "=================================================================\n",
            " input_13 (InputLayer)       [(None, None)]            0         \n",
            "                                                                 \n",
            " embedding_8 (Embedding)     (None, None, 100)         1000000   \n",
            "                                                                 \n",
            " bidirectional_4 (Bidirectio  (None, 64)               34048     \n",
            " nal)                                                            \n",
            "                                                                 \n",
            " dense_41 (Dense)            (None, 64)                4160      \n",
            "                                                                 \n",
            " dense_42 (Dense)            (None, 32)                2080      \n",
            "                                                                 \n",
            " dense_43 (Dense)            (None, 1)                 33        \n",
            "                                                                 \n",
            "=================================================================\n",
            "Total params: 1,040,321\n",
            "Trainable params: 40,321\n",
            "Non-trainable params: 1,000,000\n",
            "_________________________________________________________________\n",
            "Epoch 1/5\n",
            "3500/3500 [==============================] - 64s 17ms/step - loss: 0.4839 - accuracy: 0.7627 - val_loss: 0.4633 - val_accuracy: 0.7770\n",
            "Epoch 2/5\n",
            "3500/3500 [==============================] - 56s 16ms/step - loss: 0.4572 - accuracy: 0.7806 - val_loss: 0.4542 - val_accuracy: 0.7831\n",
            "Epoch 3/5\n",
            "3500/3500 [==============================] - 57s 16ms/step - loss: 0.4475 - accuracy: 0.7870 - val_loss: 0.4486 - val_accuracy: 0.7866\n",
            "Epoch 4/5\n",
            "3500/3500 [==============================] - 59s 17ms/step - loss: 0.4410 - accuracy: 0.7910 - val_loss: 0.4484 - val_accuracy: 0.7863\n",
            "Epoch 5/5\n",
            "3500/3500 [==============================] - 60s 17ms/step - loss: 0.4360 - accuracy: 0.7942 - val_loss: 0.4470 - val_accuracy: 0.7879\n",
            "15000/15000 [==============================] - 56s 4ms/step\n",
            "Test Accuracy: 0.7881041666666667, Precision: 0.7712547271956941, Recall: 0.8191625, F1-Score: 0.7944870561801384\n"
          ]
        }
      ],
      "source": [
        "path_to_glove_file = \"/content/drive/MyDrive/Code /Sentiment Analysis/glove.twitter.27B.100d.txt\"\n",
        "\n",
        "embeddings_index = {}\n",
        "with open(path_to_glove_file) as f:\n",
        "    for line in f:\n",
        "        word, coefs = line.split(maxsplit=1)\n",
        "        coefs = np.fromstring(coefs, \"f\", sep=\" \")\n",
        "        embeddings_index[word] = coefs\n",
        "\n",
        "print(f\"Found {len(embeddings_index)} word vectors.\")\n",
        "\n",
        "import keras\n",
        "embedding_dim = 100\n",
        "word_index = dict(zip(vocabulary, range(len(vocabulary))))\n",
        "\n",
        "embedding_matrix = np.zeros((max_features, embedding_dim))\n",
        "for word, i in word_index.items():\n",
        "    if i < max_features:\n",
        "        embedding_vector = embeddings_index.get(word)\n",
        "    if embedding_vector is not None:\n",
        "        embedding_matrix[i] = embedding_vector\n",
        "\n",
        "\n",
        "embedding_layer = layers.Embedding(\n",
        "    max_features,\n",
        "    embedding_dim,\n",
        "    embeddings_initializer=keras.initializers.Constant(embedding_matrix),\n",
        "    trainable=False,\n",
        "    mask_zero=True,\n",
        ")\n",
        "\n",
        "inputs = keras.Input(shape=(None,), dtype=\"int64\")\n",
        "embedded = embedding_layer(inputs)\n",
        "x = layers.Bidirectional(layers.LSTM(32))(embedded)\n",
        "outputs = layers.Dense(64, activation='relu')(x)\n",
        "outputs = layers.Dense(32, activation='relu')(outputs)\n",
        "outputs = layers.Dense(1, activation=\"sigmoid\")(outputs)\n",
        "model = keras.Model(inputs, outputs)\n",
        "model.compile(optimizer=\"rmsprop\",\n",
        "              loss=\"binary_crossentropy\",\n",
        "              metrics=[\"accuracy\"])\n",
        "model.summary()\n",
        "history = model.fit(X_train, y_train,\n",
        "                    epochs=5,\n",
        "                    batch_size=256,\n",
        "                    validation_split=0.2)\n",
        "\n",
        "y_pred = model.predict(X_test)\n",
        "y_pred = [round(pred[0]) for pred in y_pred]\n",
        "acc = sklearn.metrics.accuracy_score(y_test, y_pred)\n",
        "precision = sklearn.metrics.precision_score(y_test, y_pred)\n",
        "recall = sklearn.metrics.recall_score(y_test, y_pred)\n",
        "f1_score = sklearn.metrics.f1_score(y_test, y_pred)\n",
        "\n",
        "print(f'Test Accuracy: {acc}, Precision: {precision}, Recall: {recall}, F1-Score: {f1_score}')\n",
        "results.append([acc, precision, recall, f1_score])\n",
        "\n",
        "with open('/content/drive/MyDrive/Code /Sentiment Analysis/results.pickle', 'wb') as file:\n",
        "    pickle.dump(results, file)"
      ]
    },
    {
      "cell_type": "markdown",
      "metadata": {
        "id": "H6kWM653kIn8"
      },
      "source": [
        "# **Experiment no. 14 Using LSTM with Pretrained word embedding GloVe-Twitter (Additional Layer)**"
      ]
    },
    {
      "cell_type": "code",
      "execution_count": null,
      "metadata": {
        "colab": {
          "base_uri": "https://localhost:8080/"
        },
        "id": "qDsWY0zKjtkQ",
        "outputId": "1f6a851c-0e75-496f-d48d-477319549f44"
      },
      "outputs": [
        {
          "name": "stdout",
          "output_type": "stream",
          "text": [
            "Model: \"model_13\"\n",
            "_________________________________________________________________\n",
            " Layer (type)                Output Shape              Param #   \n",
            "=================================================================\n",
            " input_14 (InputLayer)       [(None, None)]            0         \n",
            "                                                                 \n",
            " embedding_8 (Embedding)     (None, None, 100)         1000000   \n",
            "                                                                 \n",
            " bidirectional_5 (Bidirectio  (None, 64)               34048     \n",
            " nal)                                                            \n",
            "                                                                 \n",
            " dense_44 (Dense)            (None, 128)               8320      \n",
            "                                                                 \n",
            " dense_45 (Dense)            (None, 64)                8256      \n",
            "                                                                 \n",
            " dense_46 (Dense)            (None, 32)                2080      \n",
            "                                                                 \n",
            " dense_47 (Dense)            (None, 1)                 33        \n",
            "                                                                 \n",
            "=================================================================\n",
            "Total params: 1,052,737\n",
            "Trainable params: 52,737\n",
            "Non-trainable params: 1,000,000\n",
            "_________________________________________________________________\n",
            "Epoch 1/5\n",
            "3500/3500 [==============================] - 67s 17ms/step - loss: 0.4832 - accuracy: 0.7631 - val_loss: 0.4684 - val_accuracy: 0.7709\n",
            "Epoch 2/5\n",
            "3500/3500 [==============================] - 59s 17ms/step - loss: 0.4565 - accuracy: 0.7810 - val_loss: 0.4540 - val_accuracy: 0.7826\n",
            "Epoch 3/5\n",
            "3500/3500 [==============================] - 59s 17ms/step - loss: 0.4466 - accuracy: 0.7873 - val_loss: 0.4516 - val_accuracy: 0.7831\n",
            "Epoch 4/5\n",
            "3500/3500 [==============================] - 59s 17ms/step - loss: 0.4403 - accuracy: 0.7910 - val_loss: 0.4454 - val_accuracy: 0.7878\n",
            "Epoch 5/5\n",
            "3500/3500 [==============================] - 58s 17ms/step - loss: 0.4356 - accuracy: 0.7940 - val_loss: 0.4452 - val_accuracy: 0.7884\n",
            "15000/15000 [==============================] - 54s 4ms/step\n",
            "Test Accuracy: 0.7890104166666667, Precision: 0.7833354438394327, Recall: 0.799025, F1-Score: 0.7911024387024114\n"
          ]
        }
      ],
      "source": [
        "inputs = keras.Input(shape=(None,), dtype=\"int64\")\n",
        "embedded = embedding_layer(inputs)\n",
        "x = layers.Bidirectional(layers.LSTM(32))(embedded)\n",
        "outputs = layers.Dense(128, activation='relu')(x)\n",
        "outputs = layers.Dense(64, activation='relu')(outputs)\n",
        "outputs = layers.Dense(32, activation='relu')(outputs)\n",
        "outputs = layers.Dense(1, activation=\"sigmoid\")(outputs)\n",
        "model = keras.Model(inputs, outputs)\n",
        "model.compile(optimizer=\"rmsprop\",\n",
        "              loss=\"binary_crossentropy\",\n",
        "              metrics=[\"accuracy\"])\n",
        "model.summary()\n",
        "history = model.fit(X_train, y_train,\n",
        "                    epochs=5,\n",
        "                    batch_size=256,\n",
        "                    validation_split=0.2)\n",
        "\n",
        "y_pred = model.predict(X_test)\n",
        "y_pred = [round(pred[0]) for pred in y_pred]\n",
        "acc = sklearn.metrics.accuracy_score(y_test, y_pred)\n",
        "precision = sklearn.metrics.precision_score(y_test, y_pred)\n",
        "recall = sklearn.metrics.recall_score(y_test, y_pred)\n",
        "f1_score = sklearn.metrics.f1_score(y_test, y_pred)\n",
        "\n",
        "print(f'Test Accuracy: {acc}, Precision: {precision}, Recall: {recall}, F1-Score: {f1_score}')\n",
        "results.append([acc, precision, recall, f1_score])\n",
        "\n",
        "with open('/content/drive/MyDrive/Code /Sentiment Analysis/results.pickle', 'wb') as file:\n",
        "    pickle.dump(results, file)"
      ]
    },
    {
      "cell_type": "markdown",
      "metadata": {
        "id": "_RcsX8dalQYX"
      },
      "source": [
        "# **Experiment no. 15 Using LSTM with Pretrained word embedding FastText**"
      ]
    },
    {
      "cell_type": "code",
      "execution_count": null,
      "metadata": {
        "colab": {
          "base_uri": "https://localhost:8080/"
        },
        "id": "7W5aaCTglQ4z",
        "outputId": "22f6eafd-c169-4180-9f69-4ecf714d857d"
      },
      "outputs": [
        {
          "name": "stdout",
          "output_type": "stream",
          "text": [
            "Found 999995 word vectors.\n",
            "Model: \"model\"\n",
            "_________________________________________________________________\n",
            " Layer (type)                Output Shape              Param #   \n",
            "=================================================================\n",
            " input_1 (InputLayer)        [(None, None)]            0         \n",
            "                                                                 \n",
            " embedding (Embedding)       (None, None, 300)         3000000   \n",
            "                                                                 \n",
            " bidirectional (Bidirectiona  (None, 64)               85248     \n",
            " l)                                                              \n",
            "                                                                 \n",
            " dense (Dense)               (None, 64)                4160      \n",
            "                                                                 \n",
            " dense_1 (Dense)             (None, 32)                2080      \n",
            "                                                                 \n",
            " dense_2 (Dense)             (None, 1)                 33        \n",
            "                                                                 \n",
            "=================================================================\n",
            "Total params: 3,091,521\n",
            "Trainable params: 91,521\n",
            "Non-trainable params: 3,000,000\n",
            "_________________________________________________________________\n",
            "Epoch 1/5\n",
            "3500/3500 [==============================] - 65s 17ms/step - loss: 0.4905 - accuracy: 0.7595 - val_loss: 0.4665 - val_accuracy: 0.7747\n",
            "Epoch 2/5\n",
            "3500/3500 [==============================] - 58s 16ms/step - loss: 0.4585 - accuracy: 0.7802 - val_loss: 0.4551 - val_accuracy: 0.7824\n",
            "Epoch 3/5\n",
            "3500/3500 [==============================] - 57s 16ms/step - loss: 0.4466 - accuracy: 0.7875 - val_loss: 0.4473 - val_accuracy: 0.7865\n",
            "Epoch 4/5\n",
            "3500/3500 [==============================] - 57s 16ms/step - loss: 0.4389 - accuracy: 0.7924 - val_loss: 0.4444 - val_accuracy: 0.7893\n",
            "Epoch 5/5\n",
            "3500/3500 [==============================] - 57s 16ms/step - loss: 0.4329 - accuracy: 0.7959 - val_loss: 0.4416 - val_accuracy: 0.7910\n",
            "15000/15000 [==============================] - 57s 4ms/step\n",
            "Test Accuracy: 0.7909083333333333, Precision: 0.7771545393195982, Recall: 0.8157208333333333, F1-Score: 0.7959708076680694\n"
          ]
        }
      ],
      "source": [
        "import io\n",
        "\n",
        "embeddings_index = {}\n",
        "fname = '/content/drive/MyDrive/Code /Sentiment Analysis/wiki-news-300d-1M.vec'\n",
        "\n",
        "# Reading the vec file and extracting words along with their 300d vectors\n",
        "fin = io.open(fname, 'r', encoding='utf-8', newline='\\n', errors='ignore')\n",
        "x = fin.readline().split()\n",
        "all = []\n",
        "i = 0\n",
        "\n",
        "while x:\n",
        "  if i == 0: \n",
        "    i = -1\n",
        "    continue\n",
        "  \n",
        "  line = ' '.join(x)\n",
        "  word, coefs = line.split(maxsplit=1)\n",
        "  coefs = np.fromstring(coefs, \"f\", sep=\" \")\n",
        "  embeddings_index[word] = coefs\n",
        "  x = fin.readline().split()\n",
        "\n",
        "print(f\"Found {len(embeddings_index)} word vectors.\")\n",
        "\n",
        "import keras\n",
        "embedding_dim = 300\n",
        "word_index = dict(zip(vocabulary, range(len(vocabulary))))\n",
        "embedding_matrix = np.zeros((max_features, embedding_dim))\n",
        "\n",
        "for word, i in word_index.items():\n",
        "    if i < max_features:\n",
        "        embedding_vector = embeddings_index.get(word)\n",
        "    if embedding_vector is not None:\n",
        "        embedding_matrix[i] = embedding_vector\n",
        "\n",
        "\n",
        "embedding_layer = layers.Embedding(\n",
        "    max_features,\n",
        "    embedding_dim,\n",
        "    embeddings_initializer=keras.initializers.Constant(embedding_matrix),\n",
        "    trainable=False,\n",
        "    mask_zero=True,\n",
        ")\n",
        "\n",
        "inputs = keras.Input(shape=(None,), dtype=\"int64\")\n",
        "embedded = embedding_layer(inputs)\n",
        "x = layers.Bidirectional(layers.LSTM(32))(embedded)\n",
        "outputs = layers.Dense(64, activation='relu')(x)\n",
        "outputs = layers.Dense(32, activation='relu')(outputs)\n",
        "outputs = layers.Dense(1, activation=\"sigmoid\")(outputs)\n",
        "model = keras.Model(inputs, outputs)\n",
        "model.compile(optimizer=\"rmsprop\",\n",
        "              loss=\"binary_crossentropy\",\n",
        "              metrics=[\"accuracy\"])\n",
        "model.summary()\n",
        "history = model.fit(X_train, y_train,\n",
        "                    epochs=5,\n",
        "                    batch_size=256,\n",
        "                    validation_split=0.2)\n",
        "\n",
        "y_pred = model.predict(X_test)\n",
        "y_pred = [round(pred[0]) for pred in y_pred]\n",
        "\n",
        "\n",
        "import sklearn\n",
        "acc = sklearn.metrics.accuracy_score(y_test, y_pred)\n",
        "precision = sklearn.metrics.precision_score(y_test, y_pred)\n",
        "recall = sklearn.metrics.recall_score(y_test, y_pred)\n",
        "f1_score = sklearn.metrics.f1_score(y_test, y_pred)\n",
        "\n",
        "print(f'Test Accuracy: {acc}, Precision: {precision}, Recall: {recall}, F1-Score: {f1_score}')\n",
        "results.append([acc, precision, recall, f1_score])\n",
        "\n",
        "with open('/content/drive/MyDrive/Code /Sentiment Analysis/results.pickle', 'wb') as file:\n",
        "    pickle.dump(results, file)"
      ]
    },
    {
      "cell_type": "markdown",
      "metadata": {
        "id": "7hwf4UJTlREi"
      },
      "source": [
        "# **Experiment no. 16 Using LSTM with Pretrained word embedding FastText (Additional Layer)**"
      ]
    },
    {
      "cell_type": "code",
      "execution_count": 49,
      "metadata": {
        "colab": {
          "base_uri": "https://localhost:8080/"
        },
        "id": "vaBeYSYWlXOn",
        "outputId": "174a3f8a-81d9-49ae-855b-730e46a22455"
      },
      "outputs": [
        {
          "name": "stdout",
          "output_type": "stream",
          "text": [
            "Found 999995 word vectors.\n",
            "Model: \"model_1\"\n",
            "_________________________________________________________________\n",
            " Layer (type)                Output Shape              Param #   \n",
            "=================================================================\n",
            " input_2 (InputLayer)        [(None, None)]            0         \n",
            "                                                                 \n",
            " embedding_1 (Embedding)     (None, None, 300)         3000000   \n",
            "                                                                 \n",
            " bidirectional_1 (Bidirectio  (None, 64)               85248     \n",
            " nal)                                                            \n",
            "                                                                 \n",
            " dense_4 (Dense)             (None, 128)               8320      \n",
            "                                                                 \n",
            " dense_5 (Dense)             (None, 64)                8256      \n",
            "                                                                 \n",
            " dense_6 (Dense)             (None, 32)                2080      \n",
            "                                                                 \n",
            " dense_7 (Dense)             (None, 1)                 33        \n",
            "                                                                 \n",
            "=================================================================\n",
            "Total params: 3,103,937\n",
            "Trainable params: 103,937\n",
            "Non-trainable params: 3,000,000\n",
            "_________________________________________________________________\n"
          ]
        }
      ],
      "source": [
        "from keras.models import Sequential\n",
        "from keras.layers import Embedding, SimpleRNN, Dense\n",
        "from tensorflow.keras import layers\n",
        "import keras\n",
        "import io\n",
        "import numpy as np\n",
        "\n",
        "embeddings_index = {}\n",
        "fname = '/content/drive/MyDrive/Code /Sentiment Analysis/wiki-news-300d-1M.vec'\n",
        "\n",
        "# Reading the vec file and extracting words along with their 300d vectors\n",
        "fin = io.open(fname, 'r', encoding='utf-8', newline='\\n', errors='ignore')\n",
        "x = fin.readline().split()\n",
        "all = []\n",
        "i = 0\n",
        "\n",
        "while x:\n",
        "  if i == 0: \n",
        "    i = -1\n",
        "    continue\n",
        "  \n",
        "  line = ' '.join(x)\n",
        "  word, coefs = line.split(maxsplit=1)\n",
        "  coefs = np.fromstring(coefs, \"f\", sep=\" \")\n",
        "  embeddings_index[word] = coefs\n",
        "  x = fin.readline().split()\n",
        "\n",
        "print(f\"Found {len(embeddings_index)} word vectors.\")\n",
        "\n",
        "\n",
        "embedding_dim = 300\n",
        "word_index = dict(zip(vocabulary, range(len(vocabulary))))\n",
        "embedding_matrix = np.zeros((max_features, embedding_dim))\n",
        "\n",
        "for word, i in word_index.items():\n",
        "    if i < max_features:\n",
        "        embedding_vector = embeddings_index.get(word)\n",
        "    if embedding_vector is not None:\n",
        "        embedding_matrix[i] = embedding_vector\n",
        "\n",
        "\n",
        "embedding_layer = layers.Embedding(\n",
        "    max_features,\n",
        "    embedding_dim,\n",
        "    embeddings_initializer=keras.initializers.Constant(embedding_matrix),\n",
        "    trainable=False,\n",
        "    mask_zero=True,\n",
        ")\n",
        "\n",
        "inputs = keras.Input(shape=(None,), dtype=\"int64\")\n",
        "embedded = embedding_layer(inputs)\n",
        "x = layers.Bidirectional(layers.LSTM(32))(embedded)\n",
        "outputs = layers.Dense(128, activation='relu')(x)\n",
        "outputs = layers.Dense(64, activation='relu')(outputs)\n",
        "outputs = layers.Dense(32, activation='relu')(outputs)\n",
        "outputs = layers.Dense(1, activation=\"sigmoid\")(outputs)\n",
        "model = keras.Model(inputs, outputs)\n",
        "model.compile(optimizer=\"rmsprop\",\n",
        "              loss=\"binary_crossentropy\",\n",
        "              metrics=[\"accuracy\"])\n",
        "model.summary()"
      ]
    },
    {
      "cell_type": "code",
      "execution_count": null,
      "metadata": {
        "id": "4CAPbjEDWflc"
      },
      "outputs": [],
      "source": [
        "history = model.fit(X_train, y_train,\n",
        "                    epochs=5,\n",
        "                    batch_size=256,\n",
        "                    validation_split=0.2)\n",
        "\n",
        "y_pred = model.predict(X_test)\n",
        "y_pred = [round(pred[0]) for pred in y_pred]"
      ]
    },
    {
      "cell_type": "code",
      "execution_count": 20,
      "metadata": {
        "colab": {
          "base_uri": "https://localhost:8080/"
        },
        "id": "zBvIgHkhUCc1",
        "outputId": "490d51f6-25ec-4b4d-bdfa-d8aeca26ac53"
      },
      "outputs": [
        {
          "name": "stdout",
          "output_type": "stream",
          "text": [
            "Test Accuracy: 0.7885208333333333, Precision: 0.7594922952392373, Recall: 0.8444541666666666, F1-Score: 0.7997229938758761\n"
          ]
        }
      ],
      "source": [
        "import sklearn\n",
        "acc = sklearn.metrics.accuracy_score(y_test, y_pred)\n",
        "precision = sklearn.metrics.precision_score(y_test, y_pred)\n",
        "recall = sklearn.metrics.recall_score(y_test, y_pred)\n",
        "f1_score = sklearn.metrics.f1_score(y_test, y_pred)\n",
        "\n",
        "print(f'Test Accuracy: {acc}, Precision: {precision}, Recall: {recall}, F1-Score: {f1_score}')\n",
        "results.append([acc, precision, recall, f1_score])\n",
        "\n",
        "with open('/content/drive/MyDrive/Code /Sentiment Analysis/results.pickle', 'wb') as file:\n",
        "    pickle.dump(results, file)"
      ]
    },
    {
      "cell_type": "code",
      "execution_count": 45,
      "metadata": {
        "colab": {
          "base_uri": "https://localhost:8080/"
        },
        "id": "9lwy9lsjikP-",
        "outputId": "67a7066a-118b-4e99-f8c4-30cc787981f8"
      },
      "outputs": [
        {
          "data": {
            "text/plain": [
              "16"
            ]
          },
          "execution_count": 45,
          "metadata": {},
          "output_type": "execute_result"
        }
      ],
      "source": [
        "import pickle\n",
        "results = []\n",
        "with open('/content/drive/MyDrive/Code /Sentiment Analysis/results.pickle', 'rb') as file:\n",
        "    results = pickle.load(file)\n",
        "\n",
        "len(results)"
      ]
    },
    {
      "cell_type": "code",
      "execution_count": 48,
      "metadata": {
        "colab": {
          "base_uri": "https://localhost:8080/"
        },
        "id": "V0Eb-murudrl",
        "outputId": "07b66d5e-8aaf-4ac7-bbd4-cbfa684b3745"
      },
      "outputs": [
        {
          "name": "stdout",
          "output_type": "stream",
          "text": [
            "╒═════════════════════════════════════╤═══════╤═════════════╤══════════╤════════════╕\n",
            "│ Model Detail                        │   Acc │   Precision │   Recall │   F1-Score │\n",
            "╞═════════════════════════════════════╪═══════╪═════════════╪══════════╪════════════╡\n",
            "│ RNN                                 │  0.71 │        0.67 │     0.82 │       0.74 │\n",
            "├─────────────────────────────────────┼───────┼─────────────┼──────────┼────────────┤\n",
            "│ RNN + 128Layer                      │  0.6  │        0.56 │     0.85 │       0.68 │\n",
            "├─────────────────────────────────────┼───────┼─────────────┼──────────┼────────────┤\n",
            "│ RNN with GloVe                      │  0.74 │        0.81 │     0.62 │       0.7  │\n",
            "├─────────────────────────────────────┼───────┼─────────────┼──────────┼────────────┤\n",
            "│ RNN with GloVe + 128 Layer          │  0.76 │        0.77 │     0.74 │       0.75 │\n",
            "├─────────────────────────────────────┼───────┼─────────────┼──────────┼────────────┤\n",
            "│ RNN with GloVe-Twitter              │  0.77 │        0.78 │     0.76 │       0.77 │\n",
            "├─────────────────────────────────────┼───────┼─────────────┼──────────┼────────────┤\n",
            "│ RNN with GloVe-Twitter + 128 Layer  │  0.77 │        0.78 │     0.75 │       0.77 │\n",
            "├─────────────────────────────────────┼───────┼─────────────┼──────────┼────────────┤\n",
            "│ RNN with FastText                   │  0.77 │        0.78 │     0.76 │       0.77 │\n",
            "├─────────────────────────────────────┼───────┼─────────────┼──────────┼────────────┤\n",
            "│ RNN with FastText + 128 Layer       │  0.77 │        0.8  │     0.71 │       0.75 │\n",
            "├─────────────────────────────────────┼───────┼─────────────┼──────────┼────────────┤\n",
            "│ LSTM                                │  0.79 │        0.79 │     0.79 │       0.79 │\n",
            "├─────────────────────────────────────┼───────┼─────────────┼──────────┼────────────┤\n",
            "│ LSTM with 128 Layer                 │  0.79 │        0.76 │     0.84 │       0.8  │\n",
            "├─────────────────────────────────────┼───────┼─────────────┼──────────┼────────────┤\n",
            "│ LSTM with GloVe                     │  0.79 │        0.78 │     0.82 │       0.8  │\n",
            "├─────────────────────────────────────┼───────┼─────────────┼──────────┼────────────┤\n",
            "│ LSTM with GloVe + 128 Layer         │  0.79 │        0.8  │     0.78 │       0.79 │\n",
            "├─────────────────────────────────────┼───────┼─────────────┼──────────┼────────────┤\n",
            "│ LSTM with GloVe-Twitter             │  0.78 │        0.77 │     0.8  │       0.78 │\n",
            "├─────────────────────────────────────┼───────┼─────────────┼──────────┼────────────┤\n",
            "│ LSTM with GloVe-Twitter + 128 Layer │  0.78 │        0.77 │     0.8  │       0.79 │\n",
            "├─────────────────────────────────────┼───────┼─────────────┼──────────┼────────────┤\n",
            "│ LSTM with FastText                  │  0.79 │        0.77 │     0.82 │       0.79 │\n",
            "├─────────────────────────────────────┼───────┼─────────────┼──────────┼────────────┤\n",
            "│ LSTM with FastText + 128 Layer      │  0.79 │        0.78 │     0.8  │       0.79 │\n",
            "╘═════════════════════════════════════╧═══════╧═════════════╧══════════╧════════════╛\n"
          ]
        }
      ],
      "source": [
        "from tabulate import tabulate\n",
        "\n",
        "models = [\n",
        "    \"RNN\", \"RNN + 128Layer\", \"RNN with GloVe\", \n",
        "    \"RNN with GloVe + 128 Layer\", \"RNN with GloVe-Twitter\", \n",
        "    \"RNN with GloVe-Twitter + 128 Layer\", \"RNN with FastText\",\n",
        "    \"RNN with FastText + 128 Layer\", \"LSTM\", \"LSTM with 128 Layer\",\n",
        "    \"LSTM with GloVe\", \"LSTM with GloVe + 128 Layer\", \"LSTM with GloVe-Twitter\", \n",
        "    \"LSTM with GloVe-Twitter + 128 Layer\", \"LSTM with FastText\", \n",
        "    \"LSTM with FastText + 128 Layer\"]\n",
        "\n",
        "for i, result in enumerate(results):\n",
        "  for j, val in enumerate(result):\n",
        "    result[j] = round(val, 2)\n",
        "  result.insert(0, models[i])\n",
        "\n",
        "col_names = [\"Model Detail\", \"Acc\", \"Precision\", \"Recall\", \"F1-Score\"]\n",
        "  \n",
        "print(tabulate(results, headers=col_names, tablefmt=\"fancy_grid\"))"
      ]
    },
    {
      "cell_type": "code",
      "execution_count": null,
      "metadata": {},
      "outputs": [],
      "source": [
        "'''\n",
        "    In terms of accuracy, LSTM seems to have outperformed RNN, \n",
        "    in all variations of embeddings and different configuration.\n",
        "\n",
        "    This makes sense since LSTM maintains a distant past much better\n",
        "    whereas RNN only looks at the previous word prediction along with\n",
        "    the current new information.\n",
        "\n",
        "    LSTM with GloVe, GloVe-Twitter, and FastText all seem to have\n",
        "    performed similar with around 79% accuracy.\n",
        "'''"
      ]
    }
  ],
  "metadata": {
    "colab": {
      "collapsed_sections": [],
      "machine_shape": "hm",
      "provenance": []
    },
    "gpuClass": "standard",
    "kernelspec": {
      "display_name": "Python 3.10.5 64-bit",
      "language": "python",
      "name": "python3"
    },
    "language_info": {
      "codemirror_mode": {
        "name": "ipython",
        "version": 3
      },
      "file_extension": ".py",
      "mimetype": "text/x-python",
      "name": "python",
      "nbconvert_exporter": "python",
      "pygments_lexer": "ipython3",
      "version": "3.10.5"
    },
    "vscode": {
      "interpreter": {
        "hash": "7c2737f5cd3eb6a237b7123ce75c641d6f975db18b0c0702ad2055474d78171c"
      }
    }
  },
  "nbformat": 4,
  "nbformat_minor": 0
}
