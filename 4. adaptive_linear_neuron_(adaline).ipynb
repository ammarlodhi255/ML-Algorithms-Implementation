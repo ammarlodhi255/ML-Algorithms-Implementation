{
 "cells": [
  {
   "cell_type": "code",
   "execution_count": 1,
   "metadata": {},
   "outputs": [],
   "source": [
    "import numpy as np"
   ]
  },
  {
   "cell_type": "code",
   "execution_count": null,
   "metadata": {},
   "outputs": [],
   "source": [
    "class Adaline():\n",
    "    def __init__(self, lr=0.01, n_iter=50, random_state=1):\n",
    "        self.lr = lr\n",
    "        self.n_iter = n_iter\n",
    "        self.random_state = random_state\n",
    "\n",
    "\n",
    "    def fit(self, X, y):\n",
    "        rgen = np.random.RandomState(self.random_state)\n",
    "        self.w = rgen.normal(loc=0.0, scale=0.01, size=1 + X.shape[1])\n",
    "\n",
    "        self.cost = []\n",
    "\n",
    "        for i in range(self.n_iter):\n",
    "            net_input = self.net_input(X)\n",
    "            output = self.activation(net_input)\n",
    "\n",
    "            errs = (y - output)\n",
    "            self.w[1:] += self.lr * X.T.dot(errs)\n",
    "            self.w[0] += self.lr * errs.sum()\n",
    "            cost = (errors**2).sum() / 2.0\n",
    "            self.cost.append(cost)\n",
    "\n",
    "        return self\n",
    "\n",
    "        \n",
    "    def net_input(self, X):\n",
    "        return np.dot(X, self.w[1:]) + self.w[0]\n",
    "\n",
    "\n",
    "    def activation(self, X):\n",
    "        return X\n",
    "    \n",
    "\n",
    "    def predict(self, X):\n",
    "        return np.where(self.activation(self.net_input(X)) >= 0.0, 1, -1)"
   ]
  }
 ],
 "metadata": {
  "kernelspec": {
   "display_name": "Python 3.10.5 64-bit",
   "language": "python",
   "name": "python3"
  },
  "language_info": {
   "codemirror_mode": {
    "name": "ipython",
    "version": 3
   },
   "file_extension": ".py",
   "mimetype": "text/x-python",
   "name": "python",
   "nbconvert_exporter": "python",
   "pygments_lexer": "ipython3",
   "version": "3.10.5"
  },
  "orig_nbformat": 4,
  "vscode": {
   "interpreter": {
    "hash": "7c2737f5cd3eb6a237b7123ce75c641d6f975db18b0c0702ad2055474d78171c"
   }
  }
 },
 "nbformat": 4,
 "nbformat_minor": 2
}
