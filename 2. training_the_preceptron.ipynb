{
 "cells": [
  {
   "cell_type": "code",
   "execution_count": 1,
   "metadata": {},
   "outputs": [],
   "source": [
    "import numpy as np\n",
    "import pandas as pd \n",
    "import matplotlib.pyplot as plt "
   ]
  },
  {
   "cell_type": "code",
   "execution_count": 2,
   "metadata": {},
   "outputs": [],
   "source": [
    "class Perceptron():\n",
    "    def __init__(self, lr=0.01, n_iter=50, random_state=1):\n",
    "        self.lr = lr  # Learning rate (between 0.0 and 1.0)\n",
    "        self.n_iter = n_iter  # Number of passes over training data\n",
    "        # Random number generator seed for random weight initialization\n",
    "        self.random_state = random_state\n",
    "\n",
    "    def fit(self, X, y):\n",
    "        rgenerator = np.random.RandomState(self.random_state)\n",
    "\n",
    "        '''\n",
    "            self.w is a 1d numpy array of size (m + 1) where m = the number of features (dimensions)\n",
    "            +1 because we also want to add the bias unit\n",
    "        '''\n",
    "        self.w = rgenerator.normal(loc=0.0, scale=0.01, size=1 + X.shape[1])\n",
    "\n",
    "        self.errors = []\n",
    "\n",
    "        for _ in range(self.n_iter):\n",
    "            errors = 0\n",
    "            for xi, yi in zip(X, y):\n",
    "                delta_wi = self.lr * (y - self.predict(xi))\n",
    "                self.w[1:] += delta_wi * xi\n",
    "                self.w[0] += delta_wi\n",
    "\n",
    "                errors += int(delta_wi != 0)\n",
    "            print(errors)\n",
    "            self.errors.append(errors)\n",
    "\n",
    "    def compute_z(self, X):\n",
    "        return np.dot(X, self.w[1:]) + self.w[0]\n",
    "\n",
    "    def predict(self, X):\n",
    "        return np.where(self.compute_z(X) >= 0.0, 1, -1)"
   ]
  },
  {
   "cell_type": "code",
   "execution_count": null,
   "metadata": {},
   "outputs": [],
   "source": [
    "df = pd.read_csv('')"
   ]
  }
 ],
 "metadata": {
  "kernelspec": {
   "display_name": "Python 3.10.5 64-bit",
   "language": "python",
   "name": "python3"
  },
  "language_info": {
   "codemirror_mode": {
    "name": "ipython",
    "version": 3
   },
   "file_extension": ".py",
   "mimetype": "text/x-python",
   "name": "python",
   "nbconvert_exporter": "python",
   "pygments_lexer": "ipython3",
   "version": "3.10.5"
  },
  "orig_nbformat": 4,
  "vscode": {
   "interpreter": {
    "hash": "7c2737f5cd3eb6a237b7123ce75c641d6f975db18b0c0702ad2055474d78171c"
   }
  }
 },
 "nbformat": 4,
 "nbformat_minor": 2
}
