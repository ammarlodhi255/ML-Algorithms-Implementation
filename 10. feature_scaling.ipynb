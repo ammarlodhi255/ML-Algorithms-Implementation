{
 "cells": [
  {
   "cell_type": "code",
   "execution_count": 1,
   "metadata": {},
   "outputs": [],
   "source": [
    "import numpy as np\n",
    "import pandas as pd"
   ]
  },
  {
   "cell_type": "code",
   "execution_count": 7,
   "metadata": {},
   "outputs": [
    {
     "name": "stdout",
     "output_type": "stream",
     "text": [
      "Normalized: [0.  0.2 0.4 0.6 0.8 1. ]\n"
     ]
    }
   ],
   "source": [
    "# The two approaches used for bring features on the same scale are\n",
    "# 1. Normalization\n",
    "# 2. Standarization\n",
    "\n",
    "# Let us normalize our data\n",
    "\n",
    "ex = np.array([0.0, 1.0, 2.0, 3.0, 4.0, 5.0])\n",
    "ex_normalized = (ex - ex.min()) / (ex.max() - ex.min())\n",
    "print(f'Normalized: {ex_normalized}')"
   ]
  },
  {
   "cell_type": "code",
   "execution_count": 8,
   "metadata": {},
   "outputs": [
    {
     "name": "stdout",
     "output_type": "stream",
     "text": [
      "Standarized: [-1.46385011 -0.87831007 -0.29277002  0.29277002  0.87831007  1.46385011]\n"
     ]
    }
   ],
   "source": [
    "# Standarization\n",
    "ex_standarized = (ex - ex.mean()) / ex.std()\n",
    "print(f'Standarized: {ex_standarized}')"
   ]
  },
  {
   "cell_type": "code",
   "execution_count": 9,
   "metadata": {},
   "outputs": [
    {
     "ename": "NameError",
     "evalue": "name 'pd' is not defined",
     "output_type": "error",
     "traceback": [
      "\u001b[1;31m---------------------------------------------------------------------------\u001b[0m",
      "\u001b[1;31mNameError\u001b[0m                                 Traceback (most recent call last)",
      "\u001b[1;32md:\\University Files\\Assignments\\7th Semester\\Machine Learning\\ML Code\\10. feature_scaling.ipynb Cell 4\u001b[0m in \u001b[0;36m<cell line: 2>\u001b[1;34m()\u001b[0m\n\u001b[0;32m      <a href='vscode-notebook-cell:/d%3A/University%20Files/Assignments/7th%20Semester/Machine%20Learning/ML%20Code/10.%20feature_scaling.ipynb#W3sZmlsZQ%3D%3D?line=0'>1</a>\u001b[0m \u001b[39m# Using sklearn's implementations\u001b[39;00m\n\u001b[1;32m----> <a href='vscode-notebook-cell:/d%3A/University%20Files/Assignments/7th%20Semester/Machine%20Learning/ML%20Code/10.%20feature_scaling.ipynb#W3sZmlsZQ%3D%3D?line=1'>2</a>\u001b[0m df \u001b[39m=\u001b[39m pd\u001b[39m.\u001b[39mread_csv(\u001b[39m'\u001b[39m\u001b[39m./datasets/iris.csv\u001b[39m\u001b[39m'\u001b[39m)\n\u001b[0;32m      <a href='vscode-notebook-cell:/d%3A/University%20Files/Assignments/7th%20Semester/Machine%20Learning/ML%20Code/10.%20feature_scaling.ipynb#W3sZmlsZQ%3D%3D?line=2'>3</a>\u001b[0m X \u001b[39m=\u001b[39m df\u001b[39m.\u001b[39miloc[[\u001b[39m0\u001b[39m, \u001b[39m2\u001b[39m]]\n\u001b[0;32m      <a href='vscode-notebook-cell:/d%3A/University%20Files/Assignments/7th%20Semester/Machine%20Learning/ML%20Code/10.%20feature_scaling.ipynb#W3sZmlsZQ%3D%3D?line=3'>4</a>\u001b[0m X\n",
      "\u001b[1;31mNameError\u001b[0m: name 'pd' is not defined"
     ]
    }
   ],
   "source": [
    "# Using sklearn's implementations\n",
    "df = pd.read_csv('./datasets/iris.csv')\n",
    "X = df.iloc[[0, 2]]\n",
    "X"
   ]
  },
  {
   "cell_type": "code",
   "execution_count": null,
   "metadata": {},
   "outputs": [],
   "source": []
  }
 ],
 "metadata": {
  "kernelspec": {
   "display_name": "Python 3.10.5 64-bit",
   "language": "python",
   "name": "python3"
  },
  "language_info": {
   "codemirror_mode": {
    "name": "ipython",
    "version": 3
   },
   "file_extension": ".py",
   "mimetype": "text/x-python",
   "name": "python",
   "nbconvert_exporter": "python",
   "pygments_lexer": "ipython3",
   "version": "3.10.5"
  },
  "orig_nbformat": 4,
  "vscode": {
   "interpreter": {
    "hash": "7c2737f5cd3eb6a237b7123ce75c641d6f975db18b0c0702ad2055474d78171c"
   }
  }
 },
 "nbformat": 4,
 "nbformat_minor": 2
}
