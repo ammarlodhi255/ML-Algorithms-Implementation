{
 "cells": [
  {
   "cell_type": "code",
   "execution_count": 1,
   "metadata": {},
   "outputs": [],
   "source": [
    "import numpy as np\n",
    "import pandas as pd"
   ]
  },
  {
   "cell_type": "code",
   "execution_count": 2,
   "metadata": {},
   "outputs": [
    {
     "name": "stdout",
     "output_type": "stream",
     "text": [
      "Normalized: [0.  0.2 0.4 0.6 0.8 1. ]\n"
     ]
    }
   ],
   "source": [
    "# The two approaches used for bring features on the same scale are\n",
    "# 1. Normalization\n",
    "# 2. Standarization\n",
    "\n",
    "# Let us normalize our data\n",
    "\n",
    "ex = np.array([0.0, 1.0, 2.0, 3.0, 4.0, 5.0])\n",
    "ex_normalized = (ex - ex.min()) / (ex.max() - ex.min())\n",
    "print(f'Normalized: {ex_normalized}')"
   ]
  },
  {
   "cell_type": "code",
   "execution_count": 3,
   "metadata": {},
   "outputs": [
    {
     "name": "stdout",
     "output_type": "stream",
     "text": [
      "Standarized: [-1.46385011 -0.87831007 -0.29277002  0.29277002  0.87831007  1.46385011]\n"
     ]
    }
   ],
   "source": [
    "# Standarization\n",
    "ex_standarized = (ex - ex.mean()) / ex.std()\n",
    "print(f'Standarized: {ex_standarized}')"
   ]
  },
  {
   "cell_type": "code",
   "execution_count": 4,
   "metadata": {},
   "outputs": [
    {
     "data": {
      "text/html": [
       "<div>\n",
       "<style scoped>\n",
       "    .dataframe tbody tr th:only-of-type {\n",
       "        vertical-align: middle;\n",
       "    }\n",
       "\n",
       "    .dataframe tbody tr th {\n",
       "        vertical-align: top;\n",
       "    }\n",
       "\n",
       "    .dataframe thead th {\n",
       "        text-align: right;\n",
       "    }\n",
       "</style>\n",
       "<table border=\"1\" class=\"dataframe\">\n",
       "  <thead>\n",
       "    <tr style=\"text-align: right;\">\n",
       "      <th></th>\n",
       "      <th>0</th>\n",
       "      <th>1</th>\n",
       "    </tr>\n",
       "  </thead>\n",
       "  <tbody>\n",
       "    <tr>\n",
       "      <th>0</th>\n",
       "      <td>200</td>\n",
       "      <td>10</td>\n",
       "    </tr>\n",
       "    <tr>\n",
       "      <th>1</th>\n",
       "      <td>500</td>\n",
       "      <td>5</td>\n",
       "    </tr>\n",
       "    <tr>\n",
       "      <th>2</th>\n",
       "      <td>1000</td>\n",
       "      <td>4</td>\n",
       "    </tr>\n",
       "    <tr>\n",
       "      <th>3</th>\n",
       "      <td>424</td>\n",
       "      <td>1</td>\n",
       "    </tr>\n",
       "  </tbody>\n",
       "</table>\n",
       "</div>"
      ],
      "text/plain": [
       "      0   1\n",
       "0   200  10\n",
       "1   500   5\n",
       "2  1000   4\n",
       "3   424   1"
      ]
     },
     "execution_count": 4,
     "metadata": {},
     "output_type": "execute_result"
    }
   ],
   "source": [
    "X = pd.DataFrame([\n",
    "    [200, 10],\n",
    "    [500, 5],\n",
    "    [1000, 4],\n",
    "    [424, 1]\n",
    "])\n",
    "X"
   ]
  },
  {
   "cell_type": "code",
   "execution_count": 5,
   "metadata": {},
   "outputs": [
    {
     "ename": "ImportError",
     "evalue": "cannot import name 'MinMaxScalar' from 'sklearn.preprocessing' (c:\\Users\\Ammar\\AppData\\Local\\Programs\\Python\\Python310\\lib\\site-packages\\sklearn\\preprocessing\\__init__.py)",
     "output_type": "error",
     "traceback": [
      "\u001b[1;31m---------------------------------------------------------------------------\u001b[0m",
      "\u001b[1;31mImportError\u001b[0m                               Traceback (most recent call last)",
      "\u001b[1;32md:\\University Files\\Assignments\\7th Semester\\Machine Learning\\ML Code\\10. feature_scaling.ipynb Cell 5\u001b[0m in \u001b[0;36m<cell line: 2>\u001b[1;34m()\u001b[0m\n\u001b[0;32m      <a href='vscode-notebook-cell:/d%3A/University%20Files/Assignments/7th%20Semester/Machine%20Learning/ML%20Code/10.%20feature_scaling.ipynb#W4sZmlsZQ%3D%3D?line=0'>1</a>\u001b[0m \u001b[39m# Using sklearn's implementations of MinMaxScalar and StandardScalar\u001b[39;00m\n\u001b[1;32m----> <a href='vscode-notebook-cell:/d%3A/University%20Files/Assignments/7th%20Semester/Machine%20Learning/ML%20Code/10.%20feature_scaling.ipynb#W4sZmlsZQ%3D%3D?line=1'>2</a>\u001b[0m \u001b[39mfrom\u001b[39;00m \u001b[39msklearn\u001b[39;00m\u001b[39m.\u001b[39;00m\u001b[39mpreprocessing\u001b[39;00m \u001b[39mimport\u001b[39;00m MinMaxScalar\n\u001b[0;32m      <a href='vscode-notebook-cell:/d%3A/University%20Files/Assignments/7th%20Semester/Machine%20Learning/ML%20Code/10.%20feature_scaling.ipynb#W4sZmlsZQ%3D%3D?line=2'>3</a>\u001b[0m mms \u001b[39m=\u001b[39m MinMaxScaler()\n\u001b[0;32m      <a href='vscode-notebook-cell:/d%3A/University%20Files/Assignments/7th%20Semester/Machine%20Learning/ML%20Code/10.%20feature_scaling.ipynb#W4sZmlsZQ%3D%3D?line=3'>4</a>\u001b[0m X_normalized \u001b[39m=\u001b[39m mms\u001b[39m.\u001b[39mfit_transform(X)\n",
      "\u001b[1;31mImportError\u001b[0m: cannot import name 'MinMaxScalar' from 'sklearn.preprocessing' (c:\\Users\\Ammar\\AppData\\Local\\Programs\\Python\\Python310\\lib\\site-packages\\sklearn\\preprocessing\\__init__.py)"
     ]
    }
   ],
   "source": [
    "# Using sklearn's implementations of MinMaxScalar and StandardScalar\n",
    "from sklearn.preprocessing import MinMaxScalar\n",
    "mms = MinMaxScaler()\n",
    "X_normalized = mms.fit_transform(X)\n",
    "X_normalized"
   ]
  },
  {
   "cell_type": "code",
   "execution_count": null,
   "metadata": {},
   "outputs": [],
   "source": []
  }
 ],
 "metadata": {
  "kernelspec": {
   "display_name": "Python 3.10.5 64-bit",
   "language": "python",
   "name": "python3"
  },
  "language_info": {
   "codemirror_mode": {
    "name": "ipython",
    "version": 3
   },
   "file_extension": ".py",
   "mimetype": "text/x-python",
   "name": "python",
   "nbconvert_exporter": "python",
   "pygments_lexer": "ipython3",
   "version": "3.10.5"
  },
  "orig_nbformat": 4,
  "vscode": {
   "interpreter": {
    "hash": "7c2737f5cd3eb6a237b7123ce75c641d6f975db18b0c0702ad2055474d78171c"
   }
  }
 },
 "nbformat": 4,
 "nbformat_minor": 2
}
