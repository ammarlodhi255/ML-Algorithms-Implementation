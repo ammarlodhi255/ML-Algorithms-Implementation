{
 "cells": [
  {
   "cell_type": "code",
   "execution_count": 2,
   "metadata": {},
   "outputs": [],
   "source": [
    "import numpy as np"
   ]
  },
  {
   "cell_type": "code",
   "execution_count": 21,
   "metadata": {},
   "outputs": [],
   "source": [
    "class Perceptron():\n",
    "    def __init__(self, lr=0.01, n_iter=50, random_state=1):\n",
    "        self.lr = lr # Learning rate (between 0.0 and 1.0)\n",
    "        self.n_iter = n_iter # Number of passes over training data\n",
    "        self.random_state = random_state # Random number generator seed for random weight initialization\n",
    "\n",
    "    def fit(self, X, y):\n",
    "        rgenerator = np.random.RandomState(self.random_state)\n",
    "        \n",
    "        '''\n",
    "            self.w is a 1d numpy array of size (m + 1) where m = the number of features (dimensions)\n",
    "            +1 because we also want to add the bias unit\n",
    "        '''\n",
    "        self.w = rgenerator.normal(loc=0.0, scale=0.01, size=1 + X.shape[1])\n",
    "\n",
    "        self.errors = []\n",
    "\n",
    "        for _ in range(self.n_iter):\n",
    "            errors = 0\n",
    "            for xi, yi in zip(X, y):\n",
    "                delta_wi = self.lr * (y - self.predict(xi))\n",
    "                self.w[1:] += delta_wi * xi\n",
    "                self.w[0] += delta_wi\n",
    "                \n",
    "                errors += int(delta_wi != 0)\n",
    "            print(errors)\n",
    "            self.errors.append(errors)\n",
    "            print('pass')\n",
    "            \n",
    "    def compute_z(self, X):\n",
    "        return np.dot(X, self.w[1:]) + self.w[0]\n",
    "\n",
    "    def predict(self, X):\n",
    "        return np.where(self.compute_z(X) >= 0.0, 1, -1)"
   ]
  },
  {
   "cell_type": "code",
   "execution_count": 23,
   "metadata": {},
   "outputs": [
    {
     "name": "stdout",
     "output_type": "stream",
     "text": [
      "about\n"
     ]
    },
    {
     "ename": "IndexError",
     "evalue": "tuple index out of range",
     "output_type": "error",
     "traceback": [
      "\u001b[1;31m---------------------------------------------------------------------------\u001b[0m",
      "\u001b[1;31mIndexError\u001b[0m                                Traceback (most recent call last)",
      "\u001b[1;32md:\\University Files\\Assignments\\7th Semester\\Machine Learning\\ML Code\\perceptron.ipynb Cell 3\u001b[0m in \u001b[0;36m<cell line: 5>\u001b[1;34m()\u001b[0m\n\u001b[0;32m      <a href='vscode-notebook-cell:/d%3A/University%20Files/Assignments/7th%20Semester/Machine%20Learning/ML%20Code/perceptron.ipynb#W2sZmlsZQ%3D%3D?line=1'>2</a>\u001b[0m X \u001b[39m=\u001b[39m [\u001b[39m1\u001b[39m, \u001b[39m0\u001b[39m, \u001b[39m1\u001b[39m, \u001b[39m0\u001b[39m, \u001b[39m0\u001b[39m, \u001b[39m1\u001b[39m, \u001b[39m0\u001b[39m, \u001b[39m1\u001b[39m]\n\u001b[0;32m      <a href='vscode-notebook-cell:/d%3A/University%20Files/Assignments/7th%20Semester/Machine%20Learning/ML%20Code/perceptron.ipynb#W2sZmlsZQ%3D%3D?line=2'>3</a>\u001b[0m y \u001b[39m=\u001b[39m [\u001b[39m23\u001b[39m, \u001b[39m21\u001b[39m, \u001b[39m23\u001b[39m, \u001b[39m21\u001b[39m, \u001b[39m21\u001b[39m, \u001b[39m23\u001b[39m, \u001b[39m21\u001b[39m, \u001b[39m23\u001b[39m]\n\u001b[1;32m----> <a href='vscode-notebook-cell:/d%3A/University%20Files/Assignments/7th%20Semester/Machine%20Learning/ML%20Code/perceptron.ipynb#W2sZmlsZQ%3D%3D?line=4'>5</a>\u001b[0m perceptron\u001b[39m.\u001b[39;49mfit(np\u001b[39m.\u001b[39;49marray(X), np\u001b[39m.\u001b[39;49marray(y))\n",
      "\u001b[1;32md:\\University Files\\Assignments\\7th Semester\\Machine Learning\\ML Code\\perceptron.ipynb Cell 3\u001b[0m in \u001b[0;36mPerceptron.fit\u001b[1;34m(self, X, y)\u001b[0m\n\u001b[0;32m      <a href='vscode-notebook-cell:/d%3A/University%20Files/Assignments/7th%20Semester/Machine%20Learning/ML%20Code/perceptron.ipynb#W2sZmlsZQ%3D%3D?line=7'>8</a>\u001b[0m rgenerator \u001b[39m=\u001b[39m np\u001b[39m.\u001b[39mrandom\u001b[39m.\u001b[39mRandomState(\u001b[39mself\u001b[39m\u001b[39m.\u001b[39mrandom_state)\n\u001b[0;32m      <a href='vscode-notebook-cell:/d%3A/University%20Files/Assignments/7th%20Semester/Machine%20Learning/ML%20Code/perceptron.ipynb#W2sZmlsZQ%3D%3D?line=8'>9</a>\u001b[0m \u001b[39mprint\u001b[39m(\u001b[39m'\u001b[39m\u001b[39mabout\u001b[39m\u001b[39m'\u001b[39m)\n\u001b[1;32m---> <a href='vscode-notebook-cell:/d%3A/University%20Files/Assignments/7th%20Semester/Machine%20Learning/ML%20Code/perceptron.ipynb#W2sZmlsZQ%3D%3D?line=9'>10</a>\u001b[0m \u001b[39mself\u001b[39m\u001b[39m.\u001b[39mw \u001b[39m=\u001b[39m rgenerator\u001b[39m.\u001b[39mnormal(loc\u001b[39m=\u001b[39m\u001b[39m0.0\u001b[39m, scale\u001b[39m=\u001b[39m\u001b[39m0.01\u001b[39m, size\u001b[39m=\u001b[39m\u001b[39m1\u001b[39m \u001b[39m+\u001b[39m X\u001b[39m.\u001b[39;49mshape[\u001b[39m1\u001b[39;49m])\n\u001b[0;32m     <a href='vscode-notebook-cell:/d%3A/University%20Files/Assignments/7th%20Semester/Machine%20Learning/ML%20Code/perceptron.ipynb#W2sZmlsZQ%3D%3D?line=11'>12</a>\u001b[0m \u001b[39mself\u001b[39m\u001b[39m.\u001b[39merrors \u001b[39m=\u001b[39m []\n\u001b[0;32m     <a href='vscode-notebook-cell:/d%3A/University%20Files/Assignments/7th%20Semester/Machine%20Learning/ML%20Code/perceptron.ipynb#W2sZmlsZQ%3D%3D?line=14'>15</a>\u001b[0m \u001b[39mfor\u001b[39;00m _ \u001b[39min\u001b[39;00m \u001b[39mrange\u001b[39m(\u001b[39mself\u001b[39m\u001b[39m.\u001b[39mn_iter):\n",
      "\u001b[1;31mIndexError\u001b[0m: tuple index out of range"
     ]
    }
   ],
   "source": [
    "perceptron = Perceptron(0.01)\n",
    "X = [1, 0, 1, 0, 0, 1, 0, 1]\n",
    "y = [23, 21, 23, 21, 21, 23, 21, 23]\n",
    "\n",
    "perceptron.fit(np.array(X), np.array(y))"
   ]
  },
  {
   "cell_type": "code",
   "execution_count": null,
   "metadata": {},
   "outputs": [],
   "source": []
  }
 ],
 "metadata": {
  "kernelspec": {
   "display_name": "Python 3.10.5 64-bit",
   "language": "python",
   "name": "python3"
  },
  "language_info": {
   "codemirror_mode": {
    "name": "ipython",
    "version": 3
   },
   "file_extension": ".py",
   "mimetype": "text/x-python",
   "name": "python",
   "nbconvert_exporter": "python",
   "pygments_lexer": "ipython3",
   "version": "3.10.5"
  },
  "orig_nbformat": 4,
  "vscode": {
   "interpreter": {
    "hash": "7c2737f5cd3eb6a237b7123ce75c641d6f975db18b0c0702ad2055474d78171c"
   }
  }
 },
 "nbformat": 4,
 "nbformat_minor": 2
}
